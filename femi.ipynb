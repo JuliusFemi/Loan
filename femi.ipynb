{
 "cells": [
  {
   "cell_type": "markdown",
   "id": "c5fa1205-4751-49a4-afce-286f4182be85",
   "metadata": {},
   "source": [
    "# 1. Predictive Default Risk Modeling for Smarter Loan Approvals\n",
    "\n",
    "**Summary:**  \n",
    "Build a regularized logistic regression model on 45 000 historical loan applications to estimate each applicant’s probability of default.  \n",
    "\n",
    "**Key Features:**  \n",
    "- **Demographics:** age, gender, education  \n",
    "- **Financial Profile:** income, employment tenure, home‐ownership  \n",
    "- **Credit History:** credit score, length of credit history, past defaults  \n",
    "- **Loan Details:** amount, purpose, interest rate, payment‑to‑income ratio  \n",
    "\n",
    "**Objective:**  \n",
    "- **Balance** catching true defaulters (recall) against avoiding false alarms on good borrowers (precision)  \n",
    "- **Optimize** the F₁‑Score on the “default” class as our primary metric  \n",
    "\n",
    "**Business Impact:**  \n",
    "- Reduce credit losses by flagging high‑risk applicants  \n",
    "- Accelerate approvals for low‑risk borrowers  \n",
    "- Inform data‑driven underwriting thresholds and loan‐term adjustments via `.predict_proba()`  \n"
   ]
  },
  {
   "cell_type": "markdown",
   "id": "3dbcd222-fa9e-4181-b1bd-95d94e90bd2f",
   "metadata": {},
   "source": [
    "# 2. Data loading and Inspection"
   ]
  },
  {
   "cell_type": "code",
   "execution_count": 1,
   "id": "c60e870c-1547-404e-aa7c-be0916b49c29",
   "metadata": {},
   "outputs": [],
   "source": [
    "#import the required libraries\n",
    "\n",
    "import pandas as pd\n",
    "import numpy as np\n",
    "import matplotlib.pyplot as plt\n",
    "import seaborn as sns\n",
    "\n",
    "\n",
    "#import sklearn libraries\n",
    "from sklearn.linear_model import LogisticRegression\n",
    "from sklearn.model_selection import train_test_split, GridSearchCV\n",
    "from sklearn.metrics import f1_score, precision_score, recall_score, accuracy_score\n",
    "from sklearn.pipeline import Pipeline\n",
    "from sklearn.compose import ColumnTransformer\n",
    "from sklearn.preprocessing import (FunctionTransformer, OneHotEncoder, OrdinalEncoder, StandardScaler)\n",
    "\n",
    "\n",
    "#folder manager\n",
    "\n",
    "import os\n"
   ]
  },
  {
   "cell_type": "code",
   "execution_count": 2,
   "id": "7eb88539-37f7-4c35-8d58-dc92a15241f7",
   "metadata": {},
   "outputs": [
    {
     "data": {
      "text/html": [
       "<div>\n",
       "<style scoped>\n",
       "    .dataframe tbody tr th:only-of-type {\n",
       "        vertical-align: middle;\n",
       "    }\n",
       "\n",
       "    .dataframe tbody tr th {\n",
       "        vertical-align: top;\n",
       "    }\n",
       "\n",
       "    .dataframe thead th {\n",
       "        text-align: right;\n",
       "    }\n",
       "</style>\n",
       "<table border=\"1\" class=\"dataframe\">\n",
       "  <thead>\n",
       "    <tr style=\"text-align: right;\">\n",
       "      <th></th>\n",
       "      <th>person_age</th>\n",
       "      <th>person_gender</th>\n",
       "      <th>person_education</th>\n",
       "      <th>person_income</th>\n",
       "      <th>person_emp_exp</th>\n",
       "      <th>person_home_ownership</th>\n",
       "      <th>loan_amnt</th>\n",
       "      <th>loan_intent</th>\n",
       "      <th>loan_int_rate</th>\n",
       "      <th>loan_percent_income</th>\n",
       "      <th>cb_person_cred_hist_length</th>\n",
       "      <th>credit_score</th>\n",
       "      <th>previous_loan_defaults_on_file</th>\n",
       "      <th>loan_status</th>\n",
       "    </tr>\n",
       "  </thead>\n",
       "  <tbody>\n",
       "    <tr>\n",
       "      <th>0</th>\n",
       "      <td>22.0</td>\n",
       "      <td>female</td>\n",
       "      <td>Master</td>\n",
       "      <td>71948.0</td>\n",
       "      <td>0</td>\n",
       "      <td>RENT</td>\n",
       "      <td>35000.0</td>\n",
       "      <td>PERSONAL</td>\n",
       "      <td>16.02</td>\n",
       "      <td>0.49</td>\n",
       "      <td>3.0</td>\n",
       "      <td>561</td>\n",
       "      <td>No</td>\n",
       "      <td>1</td>\n",
       "    </tr>\n",
       "    <tr>\n",
       "      <th>1</th>\n",
       "      <td>21.0</td>\n",
       "      <td>female</td>\n",
       "      <td>High School</td>\n",
       "      <td>12282.0</td>\n",
       "      <td>0</td>\n",
       "      <td>OWN</td>\n",
       "      <td>1000.0</td>\n",
       "      <td>EDUCATION</td>\n",
       "      <td>11.14</td>\n",
       "      <td>0.08</td>\n",
       "      <td>2.0</td>\n",
       "      <td>504</td>\n",
       "      <td>Yes</td>\n",
       "      <td>0</td>\n",
       "    </tr>\n",
       "    <tr>\n",
       "      <th>2</th>\n",
       "      <td>25.0</td>\n",
       "      <td>female</td>\n",
       "      <td>High School</td>\n",
       "      <td>12438.0</td>\n",
       "      <td>3</td>\n",
       "      <td>MORTGAGE</td>\n",
       "      <td>5500.0</td>\n",
       "      <td>MEDICAL</td>\n",
       "      <td>12.87</td>\n",
       "      <td>0.44</td>\n",
       "      <td>3.0</td>\n",
       "      <td>635</td>\n",
       "      <td>No</td>\n",
       "      <td>1</td>\n",
       "    </tr>\n",
       "    <tr>\n",
       "      <th>3</th>\n",
       "      <td>23.0</td>\n",
       "      <td>female</td>\n",
       "      <td>Bachelor</td>\n",
       "      <td>79753.0</td>\n",
       "      <td>0</td>\n",
       "      <td>RENT</td>\n",
       "      <td>35000.0</td>\n",
       "      <td>MEDICAL</td>\n",
       "      <td>15.23</td>\n",
       "      <td>0.44</td>\n",
       "      <td>2.0</td>\n",
       "      <td>675</td>\n",
       "      <td>No</td>\n",
       "      <td>1</td>\n",
       "    </tr>\n",
       "    <tr>\n",
       "      <th>4</th>\n",
       "      <td>24.0</td>\n",
       "      <td>male</td>\n",
       "      <td>Master</td>\n",
       "      <td>66135.0</td>\n",
       "      <td>1</td>\n",
       "      <td>RENT</td>\n",
       "      <td>35000.0</td>\n",
       "      <td>MEDICAL</td>\n",
       "      <td>14.27</td>\n",
       "      <td>0.53</td>\n",
       "      <td>4.0</td>\n",
       "      <td>586</td>\n",
       "      <td>No</td>\n",
       "      <td>1</td>\n",
       "    </tr>\n",
       "  </tbody>\n",
       "</table>\n",
       "</div>"
      ],
      "text/plain": [
       "   person_age person_gender person_education  person_income  person_emp_exp  \\\n",
       "0        22.0        female           Master        71948.0               0   \n",
       "1        21.0        female      High School        12282.0               0   \n",
       "2        25.0        female      High School        12438.0               3   \n",
       "3        23.0        female         Bachelor        79753.0               0   \n",
       "4        24.0          male           Master        66135.0               1   \n",
       "\n",
       "  person_home_ownership  loan_amnt loan_intent  loan_int_rate  \\\n",
       "0                  RENT    35000.0    PERSONAL          16.02   \n",
       "1                   OWN     1000.0   EDUCATION          11.14   \n",
       "2              MORTGAGE     5500.0     MEDICAL          12.87   \n",
       "3                  RENT    35000.0     MEDICAL          15.23   \n",
       "4                  RENT    35000.0     MEDICAL          14.27   \n",
       "\n",
       "   loan_percent_income  cb_person_cred_hist_length  credit_score  \\\n",
       "0                 0.49                         3.0           561   \n",
       "1                 0.08                         2.0           504   \n",
       "2                 0.44                         3.0           635   \n",
       "3                 0.44                         2.0           675   \n",
       "4                 0.53                         4.0           586   \n",
       "\n",
       "  previous_loan_defaults_on_file  loan_status  \n",
       "0                             No            1  \n",
       "1                            Yes            0  \n",
       "2                             No            1  \n",
       "3                             No            1  \n",
       "4                             No            1  "
      ]
     },
     "execution_count": 2,
     "metadata": {},
     "output_type": "execute_result"
    }
   ],
   "source": [
    "loan_df = pd.read_csv('data/loan_data.csv')\n",
    "loan_df.head(5)"
   ]
  },
  {
   "cell_type": "code",
   "execution_count": 3,
   "id": "c9d15a47-ab42-4e64-80a4-61aeb5a8d94f",
   "metadata": {},
   "outputs": [
    {
     "data": {
      "text/plain": [
       "(45000, 14)"
      ]
     },
     "execution_count": 3,
     "metadata": {},
     "output_type": "execute_result"
    }
   ],
   "source": [
    "loan_df.shape"
   ]
  },
  {
   "cell_type": "markdown",
   "id": "6d928ac2-f665-4bb7-8b6a-b4ece7227c1b",
   "metadata": {},
   "source": [
    "There are `45,000` rows and `14` columns in the data."
   ]
  },
  {
   "cell_type": "markdown",
   "id": "55597727-6401-4ec1-9597-61f842a70909",
   "metadata": {},
   "source": [
    "#### Check for missing values"
   ]
  },
  {
   "cell_type": "code",
   "execution_count": 4,
   "id": "27c19f2c-2765-4f74-b620-26ff29dc08c1",
   "metadata": {},
   "outputs": [
    {
     "data": {
      "text/plain": [
       "person_age                        0\n",
       "person_gender                     0\n",
       "person_education                  0\n",
       "person_income                     0\n",
       "person_emp_exp                    0\n",
       "person_home_ownership             0\n",
       "loan_amnt                         0\n",
       "loan_intent                       0\n",
       "loan_int_rate                     0\n",
       "loan_percent_income               0\n",
       "cb_person_cred_hist_length        0\n",
       "credit_score                      0\n",
       "previous_loan_defaults_on_file    0\n",
       "loan_status                       0\n",
       "dtype: int64"
      ]
     },
     "execution_count": 4,
     "metadata": {},
     "output_type": "execute_result"
    }
   ],
   "source": [
    "loan_df.isnull().sum()"
   ]
  },
  {
   "cell_type": "markdown",
   "id": "ed9fdd42-824d-411f-9dae-4f3146f8b0fa",
   "metadata": {},
   "source": [
    "#### Check data types"
   ]
  },
  {
   "cell_type": "code",
   "execution_count": 5,
   "id": "7715fdf2-37b5-4a6f-8fb3-e9e02c800044",
   "metadata": {},
   "outputs": [
    {
     "name": "stdout",
     "output_type": "stream",
     "text": [
      "<class 'pandas.core.frame.DataFrame'>\n",
      "RangeIndex: 45000 entries, 0 to 44999\n",
      "Data columns (total 14 columns):\n",
      " #   Column                          Non-Null Count  Dtype  \n",
      "---  ------                          --------------  -----  \n",
      " 0   person_age                      45000 non-null  float64\n",
      " 1   person_gender                   45000 non-null  object \n",
      " 2   person_education                45000 non-null  object \n",
      " 3   person_income                   45000 non-null  float64\n",
      " 4   person_emp_exp                  45000 non-null  int64  \n",
      " 5   person_home_ownership           45000 non-null  object \n",
      " 6   loan_amnt                       45000 non-null  float64\n",
      " 7   loan_intent                     45000 non-null  object \n",
      " 8   loan_int_rate                   45000 non-null  float64\n",
      " 9   loan_percent_income             45000 non-null  float64\n",
      " 10  cb_person_cred_hist_length      45000 non-null  float64\n",
      " 11  credit_score                    45000 non-null  int64  \n",
      " 12  previous_loan_defaults_on_file  45000 non-null  object \n",
      " 13  loan_status                     45000 non-null  int64  \n",
      "dtypes: float64(6), int64(3), object(5)\n",
      "memory usage: 4.8+ MB\n"
     ]
    }
   ],
   "source": [
    "loan_df.info()"
   ]
  },
  {
   "cell_type": "markdown",
   "id": "89eff0ec-cca7-4b42-b6ca-5c7bd457983e",
   "metadata": {},
   "source": [
    "### loan_df info interpretation and expectation\n",
    "\n",
    "| Column Name                         | Current Type      | To be converted to| Reason                                                          |\n",
    "| ----------------------------------- | ----------------- | ----------------- | --------------------------------------------------------------- |\n",
    "| `person_gender`                     | `object`          | `category`        | Categorical variable with limited values (\"male\", \"female\")     |\n",
    "| `person_education`                  | `object`          | `category`        | label encoding variable (\"High School\", \"Bachelor\", etc.)      |\n",
    "| `person_home_ownership`             | `object`          | `category`        | Nominal categories like \"RENT\", \"OWN\", \"MORTGAGE\"               |\n",
    "| `loan_intent`                       | `object`          | `category`        | Nominal loan purpose categories (\"EDUCATION\", \"PERSONAL\", etc.) |\n",
    "| `previous_loan_defaults_on_file`    | `object`          | `binary/int`      | Convert `\"Yes\"` : `1`, `\"No\"` :`0` for modeling                |\n",
    "| `loan_status`                       | `int64`           | `Already correct` | Target column (binary: 0/1)                                     |\n",
    "| `person_age`, `person_income`, etc. | `Already numeric` | -                 | No changes needed                                               |\n"
   ]
  },
  {
   "cell_type": "markdown",
   "id": "2c8e6775-7d86-4f5e-bb8a-7d8df76fa54d",
   "metadata": {},
   "source": [
    "#### Data statistics: To get a glimpse into data distribution"
   ]
  },
  {
   "cell_type": "code",
   "execution_count": 6,
   "id": "ed56617d-b5ea-43fc-918a-c75efb469975",
   "metadata": {},
   "outputs": [
    {
     "data": {
      "text/html": [
       "<div>\n",
       "<style scoped>\n",
       "    .dataframe tbody tr th:only-of-type {\n",
       "        vertical-align: middle;\n",
       "    }\n",
       "\n",
       "    .dataframe tbody tr th {\n",
       "        vertical-align: top;\n",
       "    }\n",
       "\n",
       "    .dataframe thead th {\n",
       "        text-align: right;\n",
       "    }\n",
       "</style>\n",
       "<table border=\"1\" class=\"dataframe\">\n",
       "  <thead>\n",
       "    <tr style=\"text-align: right;\">\n",
       "      <th></th>\n",
       "      <th>person_age</th>\n",
       "      <th>person_income</th>\n",
       "      <th>person_emp_exp</th>\n",
       "      <th>loan_amnt</th>\n",
       "      <th>loan_int_rate</th>\n",
       "      <th>loan_percent_income</th>\n",
       "      <th>cb_person_cred_hist_length</th>\n",
       "      <th>credit_score</th>\n",
       "      <th>loan_status</th>\n",
       "    </tr>\n",
       "  </thead>\n",
       "  <tbody>\n",
       "    <tr>\n",
       "      <th>count</th>\n",
       "      <td>45000.000000</td>\n",
       "      <td>4.500000e+04</td>\n",
       "      <td>45000.000000</td>\n",
       "      <td>45000.000000</td>\n",
       "      <td>45000.000000</td>\n",
       "      <td>45000.000000</td>\n",
       "      <td>45000.000000</td>\n",
       "      <td>45000.000000</td>\n",
       "      <td>45000.000000</td>\n",
       "    </tr>\n",
       "    <tr>\n",
       "      <th>mean</th>\n",
       "      <td>27.764178</td>\n",
       "      <td>8.031905e+04</td>\n",
       "      <td>5.410333</td>\n",
       "      <td>9583.157556</td>\n",
       "      <td>11.006606</td>\n",
       "      <td>0.139725</td>\n",
       "      <td>5.867489</td>\n",
       "      <td>632.608756</td>\n",
       "      <td>0.222222</td>\n",
       "    </tr>\n",
       "    <tr>\n",
       "      <th>std</th>\n",
       "      <td>6.045108</td>\n",
       "      <td>8.042250e+04</td>\n",
       "      <td>6.063532</td>\n",
       "      <td>6314.886691</td>\n",
       "      <td>2.978808</td>\n",
       "      <td>0.087212</td>\n",
       "      <td>3.879702</td>\n",
       "      <td>50.435865</td>\n",
       "      <td>0.415744</td>\n",
       "    </tr>\n",
       "    <tr>\n",
       "      <th>min</th>\n",
       "      <td>20.000000</td>\n",
       "      <td>8.000000e+03</td>\n",
       "      <td>0.000000</td>\n",
       "      <td>500.000000</td>\n",
       "      <td>5.420000</td>\n",
       "      <td>0.000000</td>\n",
       "      <td>2.000000</td>\n",
       "      <td>390.000000</td>\n",
       "      <td>0.000000</td>\n",
       "    </tr>\n",
       "    <tr>\n",
       "      <th>25%</th>\n",
       "      <td>24.000000</td>\n",
       "      <td>4.720400e+04</td>\n",
       "      <td>1.000000</td>\n",
       "      <td>5000.000000</td>\n",
       "      <td>8.590000</td>\n",
       "      <td>0.070000</td>\n",
       "      <td>3.000000</td>\n",
       "      <td>601.000000</td>\n",
       "      <td>0.000000</td>\n",
       "    </tr>\n",
       "    <tr>\n",
       "      <th>50%</th>\n",
       "      <td>26.000000</td>\n",
       "      <td>6.704800e+04</td>\n",
       "      <td>4.000000</td>\n",
       "      <td>8000.000000</td>\n",
       "      <td>11.010000</td>\n",
       "      <td>0.120000</td>\n",
       "      <td>4.000000</td>\n",
       "      <td>640.000000</td>\n",
       "      <td>0.000000</td>\n",
       "    </tr>\n",
       "    <tr>\n",
       "      <th>75%</th>\n",
       "      <td>30.000000</td>\n",
       "      <td>9.578925e+04</td>\n",
       "      <td>8.000000</td>\n",
       "      <td>12237.250000</td>\n",
       "      <td>12.990000</td>\n",
       "      <td>0.190000</td>\n",
       "      <td>8.000000</td>\n",
       "      <td>670.000000</td>\n",
       "      <td>0.000000</td>\n",
       "    </tr>\n",
       "    <tr>\n",
       "      <th>max</th>\n",
       "      <td>144.000000</td>\n",
       "      <td>7.200766e+06</td>\n",
       "      <td>125.000000</td>\n",
       "      <td>35000.000000</td>\n",
       "      <td>20.000000</td>\n",
       "      <td>0.660000</td>\n",
       "      <td>30.000000</td>\n",
       "      <td>850.000000</td>\n",
       "      <td>1.000000</td>\n",
       "    </tr>\n",
       "  </tbody>\n",
       "</table>\n",
       "</div>"
      ],
      "text/plain": [
       "         person_age  person_income  person_emp_exp     loan_amnt  \\\n",
       "count  45000.000000   4.500000e+04    45000.000000  45000.000000   \n",
       "mean      27.764178   8.031905e+04        5.410333   9583.157556   \n",
       "std        6.045108   8.042250e+04        6.063532   6314.886691   \n",
       "min       20.000000   8.000000e+03        0.000000    500.000000   \n",
       "25%       24.000000   4.720400e+04        1.000000   5000.000000   \n",
       "50%       26.000000   6.704800e+04        4.000000   8000.000000   \n",
       "75%       30.000000   9.578925e+04        8.000000  12237.250000   \n",
       "max      144.000000   7.200766e+06      125.000000  35000.000000   \n",
       "\n",
       "       loan_int_rate  loan_percent_income  cb_person_cred_hist_length  \\\n",
       "count   45000.000000         45000.000000                45000.000000   \n",
       "mean       11.006606             0.139725                    5.867489   \n",
       "std         2.978808             0.087212                    3.879702   \n",
       "min         5.420000             0.000000                    2.000000   \n",
       "25%         8.590000             0.070000                    3.000000   \n",
       "50%        11.010000             0.120000                    4.000000   \n",
       "75%        12.990000             0.190000                    8.000000   \n",
       "max        20.000000             0.660000                   30.000000   \n",
       "\n",
       "       credit_score   loan_status  \n",
       "count  45000.000000  45000.000000  \n",
       "mean     632.608756      0.222222  \n",
       "std       50.435865      0.415744  \n",
       "min      390.000000      0.000000  \n",
       "25%      601.000000      0.000000  \n",
       "50%      640.000000      0.000000  \n",
       "75%      670.000000      0.000000  \n",
       "max      850.000000      1.000000  "
      ]
     },
     "execution_count": 6,
     "metadata": {},
     "output_type": "execute_result"
    }
   ],
   "source": [
    "loan_df.describe()"
   ]
  },
  {
   "cell_type": "markdown",
   "id": "b1b95c31-cc80-4178-bcbc-b9855633986f",
   "metadata": {},
   "source": [
    "### loan_df.describe interpretation\n",
    "\n",
    "The dataset has 45,000 loan applications. Below are the observation that should be noted during analysis.\n",
    "`person_age`: The average age of applicant is around 28 nyears, with most people fallin between 24 and 30 i.e 75% of the distribution. \n",
    "`person_income`: The minimum income is about 8000, average income is 80319.05 and the maxium income is over 7 million. This suggests the feature may not be evenly distributed and would need to be transformed.\n",
    "`person_emp_exp`: On average, applicants have about 5 years of employment experience. However, the maximum value is 125 years, which is likely an error. This field would be inspected and cleaned accordingly.\n",
    "`Loan Amount`: The loan amounts range from 500 to 35,000, with a median of $8,000. These values appear reasonable, hence, transformation may not be necessary.\n",
    "`loan_int_rate` : The loan interest rates vary between 5.4% \"min value\" and 20%,\"max value\" with a median around 11%. This distribution appears normal and aligns with typical consumer lending rates. \n",
    "`credit_score` : This falls within the standard credit score range i.e 300 - 850"
   ]
  },
  {
   "cell_type": "code",
   "execution_count": 7,
   "id": "884e1af2-282a-470f-9a2f-dfa99e0fb57c",
   "metadata": {},
   "outputs": [
    {
     "data": {
      "text/plain": [
       "loan_status\n",
       "0    0.777778\n",
       "1    0.222222\n",
       "Name: proportion, dtype: float64"
      ]
     },
     "execution_count": 7,
     "metadata": {},
     "output_type": "execute_result"
    }
   ],
   "source": [
    "# To check for class imbalance\n",
    "loan_df['loan_status'].value_counts(normalize = True)"
   ]
  },
  {
   "cell_type": "markdown",
   "id": "22a2b45c-99f9-4032-96de-898340200a00",
   "metadata": {},
   "source": [
    "#### Class Balance:\n",
    "\n",
    "77.8% of loans were defaulted (status 0)\n",
    "\n",
    "22.2% of loans repaid (status 1)\n",
    "\n"
   ]
  },
  {
   "cell_type": "code",
   "execution_count": 8,
   "id": "60f6df7d-079a-4321-aa84-21b3bb5ef3b5",
   "metadata": {},
   "outputs": [
    {
     "data": {
      "text/plain": [
       "np.int64(0)"
      ]
     },
     "execution_count": 8,
     "metadata": {},
     "output_type": "execute_result"
    }
   ],
   "source": [
    "#check for duplicates\n",
    "\n",
    "loan_df.duplicated().sum()"
   ]
  },
  {
   "cell_type": "markdown",
   "id": "5f2a5019-7d89-4da1-ad3b-3560ac3e1985",
   "metadata": {},
   "source": [
    "# 3. Visualization"
   ]
  },
  {
   "cell_type": "code",
   "execution_count": 9,
   "id": "c57966b6-dd85-4594-bd1e-2158410b5ed7",
   "metadata": {},
   "outputs": [
    {
     "name": "stdout",
     "output_type": "stream",
     "text": [
      "Folder 'graphs' already exists—skipping creation.\n"
     ]
    }
   ],
   "source": [
    "#creating a folder for visualization\n",
    "folder_name = 'graphs'\n",
    "try:\n",
    "    os.mkdir(folder_name)\n",
    "    print(f\"Folder '{folder_name}' created successfully.\")\n",
    "except FileExistsError:\n",
    "    # This block runs if the folder already exists\n",
    "    print(f\"Folder '{folder_name}' already exists—skipping creation.\")\n",
    "except Exception as e:\n",
    "    # Catches any other unexpected errors\n",
    "    print(\"An unexpected error occurred:\", e)"
   ]
  },
  {
   "cell_type": "code",
   "execution_count": 10,
   "id": "77ea9eb2-be6f-42ba-b41d-00bd04f611ea",
   "metadata": {},
   "outputs": [
    {
     "data": {
      "image/png": "[encoded data removed]",
      "text/plain": [
       "<Figure size 1000x600 with 1 Axes>"
      ]
     },
     "metadata": {},
     "output_type": "display_data"
    }
   ],
   "source": [
    "# Histograph for Age\n",
    "\n",
    "sns.set_style(\"darkgrid\")\n",
    "\n",
    "plt.figure(figsize=(10, 6))\n",
    "plt.hist(loan_df['person_age'], bins= 40, edgecolor='black')\n",
    "plt.title('Age Distribution')\n",
    "plt.xlabel('Age')\n",
    "plt.ylabel('Count')\n",
    "plt.tight_layout()\n",
    "\n",
    "#save plot\n",
    "plt.savefig(\"graphs/age_hist.png\")\n",
    "plt.show()\n"
   ]
  },
  {
   "cell_type": "markdown",
   "id": "926fdce8-7da2-4e35-8b13-ea3107571ce4",
   "metadata": {},
   "source": [
    "### Age Distribution Interpretation\n",
    "\n",
    "- The histogram shows that the majority of applicants are clustered between about 20 and 35 years old, with a clear peak in the mid‑20s.  \n",
    "- There is a right tail extending into older ages, but very few applicants above 60, this appear as isolated bars.  \n",
    "- This suggests the core borrower base is young, and only occasional outliers (e.g. retirees or very senior professionals) apply for these loans."
   ]
  },
  {
   "cell_type": "code",
   "execution_count": 11,
   "id": "4ef7d407-b8d5-4e0d-b6c2-26e492f36419",
   "metadata": {},
   "outputs": [
    {
     "data": {
      "text/plain": [
       "person_gender\n",
       "male      0.552022\n",
       "female    0.447978\n",
       "Name: proportion, dtype: float64"
      ]
     },
     "execution_count": 11,
     "metadata": {},
     "output_type": "execute_result"
    }
   ],
   "source": [
    "loan_df['person_gender'].value_counts(normalize = True)"
   ]
  },
  {
   "cell_type": "code",
   "execution_count": 12,
   "id": "747dcca4-3a9f-46fc-80d3-54a0834d2abd",
   "metadata": {},
   "outputs": [
    {
     "data": {
      "image/png": "[encoded data removed]",
      "text/plain": [
       "<Figure size 800x400 with 1 Axes>"
      ]
     },
     "metadata": {},
     "output_type": "display_data"
    }
   ],
   "source": [
    "# bar chart for gender\n",
    "\n",
    "sns.set_style(\"darkgrid\")\n",
    "\n",
    "# compute counts\n",
    "gender_counts = loan_df['person_gender'].value_counts(normalize = True)\n",
    "\n",
    "plt.figure(figsize=(8, 4))\n",
    "plt.bar(gender_counts.index, gender_counts.values, color = 'skyblue')\n",
    "plt.title('Gender Distribution')\n",
    "plt.xlabel('Gender')\n",
    "plt.ylabel('Count')\n",
    "plt.tight_layout()\n",
    "\n",
    "#save plot\n",
    "plt.savefig(\"graphs/gender_bar.png\")\n",
    "plt.show()\n"
   ]
  },
  {
   "cell_type": "markdown",
   "id": "57c7e1c2-633d-4a5d-a443-5596c0697f08",
   "metadata": {},
   "source": [
    "### Gender Distribution\n",
    "\n",
    "- The applicant pool is composed of approximately 25 000 males and 20 000 females.  \n",
    "- Males represent roughly 55% of all applicants, while females account for about 45%.  "
   ]
  },
  {
   "cell_type": "code",
   "execution_count": 13,
   "id": "e13cd5ab-723b-4ae6-a003-b4d69c7bbda6",
   "metadata": {},
   "outputs": [
    {
     "data": {
      "image/png": "[encoded data removed]",
      "text/plain": [
       "<Figure size 800x400 with 1 Axes>"
      ]
     },
     "metadata": {},
     "output_type": "display_data"
    }
   ],
   "source": [
    "# education barchart\n",
    "\n",
    "edu_count = loan_df['person_education'].value_counts(normalize = True)\n",
    "\n",
    "plt.figure(figsize=(8, 4))\n",
    "plt.bar(edu_count.index, edu_count.values, color = 'skyblue')\n",
    "plt.title('Education Distribution')\n",
    "plt.xlabel('Education')\n",
    "plt.ylabel('Count')\n",
    "plt.tight_layout()\n",
    "\n",
    "#save plot\n",
    "plt.savefig(\"graphs/education_bar.png\")\n",
    "plt.show()"
   ]
  },
  {
   "cell_type": "markdown",
   "id": "ee3a5ab3-f7a3-451c-99f9-1c1d68f1db05",
   "metadata": {},
   "source": [
    "### Education Distribution Interpretation\n",
    "\n",
    "- **Bachelor’s degree** is the most common, comprising nearly 30% of applicants.  \n",
    "- **Associate** and **High School** diplomas are close behind at around 27% each, indicating a sizable share of mid‑level qualifications.  \n",
    "- **Master’s degree** holders account for roughly 15% of the pool—strong representation but noticeably fewer than bachelor’s-level applicants.  \n",
    "- **Doctorate** degrees are very rare (around 1–2%), likely reflecting that borrowers with PhDs are a small minority.\n",
    "\n",
    "Overall, the borrower education profile shows that most borrowers have completed somewhere between two and four years of education i.e Bachelor and associate."
   ]
  },
  {
   "cell_type": "code",
   "execution_count": 14,
   "id": "d9caede8-5ff1-4f06-b9b2-0a261f2594d5",
   "metadata": {},
   "outputs": [
    {
     "data": {
      "image/png": "[encoded data removed]",
      "text/plain": [
       "<Figure size 1000x600 with 1 Axes>"
      ]
     },
     "metadata": {},
     "output_type": "display_data"
    }
   ],
   "source": [
    "# Educaion vs loan status\n",
    "\n",
    "status_palette = {0: '#4C72B0', 1: '#DD8452'}\n",
    "\n",
    "plt.figure(figsize=(10, 6))\n",
    "sns.countplot(\n",
    "    x='person_education',\n",
    "    hue='loan_status',\n",
    "    data=loan_df,\n",
    "    palette=status_palette,\n",
    "    order=['Master', 'High School', 'Bachelor', 'Associate', 'Doctorate']\n",
    ")\n",
    "plt.title('person_education vs Loan Status')\n",
    "plt.xlabel('Education level')\n",
    "plt.ylabel('Count')\n",
    "plt.legend(title='loan_status', labels=['Defaulted (0)', 'Repaid (1)'])\n",
    "plt.tight_layout()\n",
    "\n",
    "# Save and show\n",
    "plt.savefig(\"graphs/education_vs_status_bar.png\")\n",
    "plt.show()"
   ]
  },
  {
   "cell_type": "code",
   "execution_count": 15,
   "id": "0c8348f4-ad2c-4667-86f4-d336f43fe477",
   "metadata": {},
   "outputs": [
    {
     "name": "stdout",
     "output_type": "stream",
     "text": [
      "Default Rate by Education Level (%):\n",
      "person_education\n",
      "Doctorate      77.13\n",
      "Bachelor       77.48\n",
      "High School    77.69\n",
      "Associate      77.97\n",
      "Master         78.24\n",
      "Name: loan_status, dtype: float64\n"
     ]
    }
   ],
   "source": [
    "# Calculate default rate by education level\n",
    "repayment_rates = (\n",
    "    loan_df\n",
    "    .groupby('person_education')['loan_status']\n",
    "    .mean()  \n",
    "    .sort_values(ascending=False))\n",
    "\n",
    "# Convert to percentage\n",
    "default_rates_percent = round((1 - repayment_rates) * 100, 2)\n",
    "print(\"Default Rate by Education Level (%):\")\n",
    "print(default_rates_percent)"
   ]
  },
  {
   "cell_type": "markdown",
   "id": "349beae0-e3d6-4db5-ae70-edb0a0c8c293",
   "metadata": {},
   "source": [
    "### Education Level vs. Loan Repayment plot\n",
    "\n",
    "- **Absolute Counts:**  \n",
    "  - **Bachelor’s** degree holders are the largest group, with over 10000 repaid and about 3 000 defaulted loans.  \n",
    "  - **High School** graduates follow closely ( about 9000 repaid and over 2000 defaulted).  \n",
    "  - **Associate** and **Master’s** degree groups each show over 9000 and over 5000 repaid loans respectively, with defaults around over 2500 and about 1500.  \n",
    "  - **Doctorate** holders are fewest (approx 500 repaid, approx 120 defaulted).\n",
    "\n",
    "### Default Rate by Education Level\n",
    "\n",
    "| Education Level | Default Rate (%) |\n",
    "|-----------------|------------------|\n",
    "| Doctorate       | 77.13            |\n",
    "| Bachelor        | 77.48            |\n",
    "| High School     | 77.69            |\n",
    "| Associate       | 77.97           |\n",
    "| Master          | 78.24            |\n",
    "\n",
    "**Key Takeaways:**\n",
    "    - **Master** holders show the highest default rate (78.24%), followed by **Associate** with (77.97 %) default rate. **High school** with (77.69%), **Bachelor** with (77.48%) and **Doctorate** with 77.13% default rate\n",
    "\n",
    "#### To do\n",
    "    - Given these subtle differences, encoding `person_education` in the model (e.g., as one-hot variables) should help capture nuanced impacts on default risk without overemphasizing education level.  "
   ]
  },
  {
   "cell_type": "code",
   "execution_count": 16,
   "id": "17e24947-44a9-4f06-ace1-846afeec0d1e",
   "metadata": {},
   "outputs": [
    {
     "data": {
      "image/png": "[encoded data removed]",
      "text/plain": [
       "<Figure size 1000x600 with 1 Axes>"
      ]
     },
     "metadata": {},
     "output_type": "display_data"
    }
   ],
   "source": [
    "# Histograph for Income\n",
    "\n",
    "#show the median income\n",
    "median_income = loan_df['person_income'].median()\n",
    "\n",
    "plt.figure(figsize=(10, 6))\n",
    "plt.hist(loan_df['person_income'], bins=100, edgecolor='black', alpha=0.7)\n",
    "plt.axvline(median_income, color='red', linestyle='--', linewidth=2, label=f'Median = ${median_income:,.0f}')\n",
    "plt.title('Income Distribution with Median Marker')\n",
    "plt.xlabel('Income')\n",
    "plt.ylabel('Count')\n",
    "plt.legend()\n",
    "plt.tight_layout()\n",
    "\n",
    "#save plot\n",
    "plt.savefig(\"graphs/income_hist.png\")\n",
    "plt.show()\n"
   ]
  },
  {
   "cell_type": "markdown",
   "id": "344ae801-75f2-4431-b13f-612982d29388",
   "metadata": {},
   "source": [
    "## Income Distribution – Next Steps & Expectations\n",
    "\n",
    "- **Current View:**  \n",
    "  Even with 100 bins nearly everyone falls into the first bin.\n",
    "\n",
    "- **Expectation for Later Analysis:**  \n",
    "  - **Feature transformation:** We’ll likely apply a **log transform** to `person_income` before modeling to reduce skew and improve linearity for logistic regression.  \n",
    "  - **Correlation check:** We’ll assess how `person_income` correlates with `loan_status` (e.g. via violin plots or point‑biserial correlation) to verify if higher incomes indeed correspond to lower default rates."
   ]
  },
  {
   "cell_type": "code",
   "execution_count": 17,
   "id": "98fd4096-f07a-4754-9290-27c335c6c2dd",
   "metadata": {},
   "outputs": [
    {
     "data": {
      "image/png": "[encoded data removed]",
      "text/plain": [
       "<Figure size 800x600 with 1 Axes>"
      ]
     },
     "metadata": {},
     "output_type": "display_data"
    }
   ],
   "source": [
    "# Convert loan_status to integer to match palette keys\n",
    "\n",
    "# calucualte medians\n",
    "medians = loan_df.groupby('loan_status')['person_income'].median()\n",
    "\n",
    "plt.figure(figsize=(8, 6))\n",
    "sns.boxplot(\n",
    "    x='loan_status',\n",
    "    y='person_income',\n",
    "    hue='loan_status', \n",
    "    data=loan_df,\n",
    "    palette={0: '#4C72B0', 1: '#DD8452'},\n",
    "    medianprops={'color': 'red', 'linewidth': 2},\n",
    "    dodge=False)\n",
    "\n",
    "plt.legend([], [], frameon=False)\n",
    "\n",
    "# Zoom in to the plot to make median line visible\n",
    "plt.ylim(0, 500_000)\n",
    "\n",
    "# Annotate the median values\n",
    "for status, median in medians.items():\n",
    "    plt.text(status, median + 5000, f'{median:,.0f}',\n",
    "             ha='center', color='red', weight='bold')\n",
    "\n",
    "# Labels and title\n",
    "plt.title('Income by Loan Repayment Status')\n",
    "plt.xlabel('Loan Status (0 = Default, 1 = Repaid)')\n",
    "plt.ylabel('Income')\n",
    "\n",
    "plt.tight_layout()\n",
    "\n",
    "# Save & show\n",
    "plt.savefig(\"graphs/incomeby_status.png\")\n",
    "plt.show()\n"
   ]
  },
  {
   "cell_type": "markdown",
   "id": "8fd1547c-c1dd-4f2e-a099-7f1774e29180",
   "metadata": {},
   "source": [
    "### Why plot income by loan repayment status?\n",
    "By splitting income into two boxplot. one for borrowers who repaid (status 0) and one for those who defaulted (status 1), we directly compare their earning patterns. This helps us:\n",
    "\n",
    "1. Spot differences in median and variability that might signal risk.\n",
    "\n",
    "2. Decide how to treat income in our model (e.g. transform, cap outliers, or bin into ranges).\n",
    "\n",
    "3. Validate generic assumptions like lower‑income borrowers default more often compared to high income earners.\n",
    "\n",
    "### Income by Loan Repayment Status plot interpretataion\n",
    "- **Median Incomes:**  \n",
    "  - **Repaid (1):**  \\$50,629 \n",
    "  - **Defaulted (0):** \\$72,928\n",
    "  The red lines and labels show that borrowers who eventually default tend to have a slightly lower median income than those who repay.\n",
    "\n",
    "- **Outliers:**  \n",
    "  - Both groups include high‑income outliers represented by the circles in the plot.  "
   ]
  },
  {
   "cell_type": "code",
   "execution_count": 18,
   "id": "a6647afe-04a3-49b3-adb6-b279629acf84",
   "metadata": {},
   "outputs": [
    {
     "data": {
      "image/png": "[encoded data removed]",
      "text/plain": [
       "<Figure size 1000x600 with 1 Axes>"
      ]
     },
     "metadata": {},
     "output_type": "display_data"
    }
   ],
   "source": [
    "# Histograph for Age\n",
    "\n",
    "median_exp = loan_df['person_emp_exp'].median()\n",
    "\n",
    "plt.figure(figsize=(10, 6))\n",
    "plt.hist(loan_df['person_emp_exp'], bins= 20, edgecolor='black')\n",
    "plt.axvline(median_exp, color='red', linestyle='--', linewidth=2, label=f'Median = ${median_income:,.0f}')\n",
    "plt.title('Years of Experince Distribution')\n",
    "plt.xlabel('Expereince in \"years\"')\n",
    "plt.ylabel('Count')\n",
    "plt.tight_layout()\n",
    "\n",
    "#save plot\n",
    "plt.savefig(\"graphs/exprience.png\")\n",
    "plt.show()\n"
   ]
  },
  {
   "cell_type": "markdown",
   "id": "be3e30e0-f613-4f3a-bbe5-a2f448ffa3b2",
   "metadata": {},
   "source": [
    "### Years of Employment Experience Distribution (with Median Marker)\n",
    "\n",
    "- The **red dashed line** marks the median experience, which sits at around **3 years**, indicating half of applicants have under 3 years on the job.  \n",
    "- The distribution is **right‑skewed**:  \n",
    "  - **0–5 years** covers the vast majority of borrowers.  \n",
    "  - There’s a long tail of very tenured applicants (20+ years), but they are rare."
   ]
  },
  {
   "cell_type": "code",
   "execution_count": 19,
   "id": "ebca9a71-8c1d-483b-8bd3-d4117eb0f7b1",
   "metadata": {},
   "outputs": [
    {
     "data": {
      "image/png": "[encoded data removed]",
      "text/plain": [
       "<Figure size 800x600 with 1 Axes>"
      ]
     },
     "metadata": {},
     "output_type": "display_data"
    }
   ],
   "source": [
    "# Employment Experience by Loan Repayment Status\n",
    "\n",
    "plt.figure(figsize=(8, 6))\n",
    "sns.boxplot(\n",
    "    x='loan_status',\n",
    "    y='person_emp_exp',\n",
    "    hue='loan_status',          \n",
    "    data=loan_df,\n",
    "    palette={0: '#4C72B0', 1: '#DD8452'},\n",
    "    dodge=False,                \n",
    "    medianprops={'color': 'red', 'linewidth': 2}\n",
    ")\n",
    "plt.legend([], [], frameon=False)  \n",
    "plt.title('Employment Experience by Loan Repayment Status')\n",
    "plt.xlabel('Loan Status (0 = Default, 1 = Repaid)')\n",
    "plt.ylabel('Years of Employment Experience')\n",
    "plt.tight_layout()\n",
    "plt.savefig(\"graphs/experience_by_status_boxplot.png\")\n",
    "plt.show()\n"
   ]
  },
  {
   "cell_type": "markdown",
   "id": "c986d74a-6734-4d08-8207-275ed4b607db",
   "metadata": {},
   "source": [
    "### Why Employment Experience by Loan Repayment Status matters\n",
    "\n",
    "By directly comparing years of experience for **repaid vs. defaulted** loans, we:\n",
    "\n",
    "1. **Validate Assumptions:** Confirm that shorter employment tenures correlate with higher default risk.  \n",
    "2. **Inform Feature Engineering:** Decide whether to allocate cap to extreme tenures or put bin into categories (e.g., “0–2 yrs,” “3–7 yrs,” “8+ yrs”), or apply transformations.\n",
    "\n",
    "### Employment Experience by Loan Repayment Status plot interpretation\n",
    "\n",
    "- **Median Tenure:**  \n",
    "  - **Defaulted (0):** approximately 4 years  \n",
    "  - **Repaid (1):** approximately 3 years  \n",
    "  The bold red lines show that borrowers who default tend to have slightly higher median job tenure.\n",
    "\n",
    "\n",
    "#### Outliers\n",
    " There are long upper whiskers and many outliers beyond 20 years and up to 120. The outliers would need to be dropped as this most likely would be a clarical error. "
   ]
  },
  {
   "cell_type": "code",
   "execution_count": 20,
   "id": "bd038272-7d9e-497f-be0c-9a4e2417aa89",
   "metadata": {},
   "outputs": [
    {
     "data": {
      "image/png": "[encoded data removed]",
      "text/plain": [
       "<Figure size 800x600 with 1 Axes>"
      ]
     },
     "metadata": {},
     "output_type": "display_data"
    }
   ],
   "source": [
    "plt.figure(figsize=(8, 6))\n",
    "sns.violinplot(\n",
    "    x='loan_status',\n",
    "    y='person_emp_exp',\n",
    "    hue='loan_status',\n",
    "    data=loan_df,\n",
    "    palette={0: '#4C72B0', 1: '#DD8452'},\n",
    "    dodge=False,\n",
    "    inner='quartile'\n",
    ")\n",
    "plt.legend([], [], frameon=False)\n",
    "plt.title('Employment Experience Distribution by Loan Status')\n",
    "plt.xlabel('Loan Status (0 = Defaut, 1 = Repaid)')\n",
    "plt.ylabel('Years of Employment Experience')\n",
    "plt.tight_layout()\n",
    "\n",
    "plt.savefig(\"graphs/experienceby_status_vplot.png\")\n",
    "\n",
    "plt.show()\n"
   ]
  },
  {
   "cell_type": "markdown",
   "id": "0026186c-5d8b-49d3-a504-f58dc9cc900b",
   "metadata": {},
   "source": [
    "### Employment Experience Distribution by Loan Status (Violin Plot)\n",
    "\n",
    "- **Shape & Density:**  \n",
    "  - Both violins peak sharply at very low tenures (0–2 years), showing most applicants are early‐career.  \n",
    "  - The “default” group (blue) has a slightly broader mid‑career ridge (around 5–10 years) compared to the “repaid” group (orange), reflecting more borrowers with stable, longer tenures.\n",
    "\n",
    "- **Quartile Markers:**  \n",
    "  - The dotted lines inside each violin mark the 25th, 50th (median), and 75th percentiles—confirming the median for repaid ( approapprox  4 yrs) is higher than defaulted (approx 3 yrs).\n",
    "\n",
    "- **Long Tails:**  \n",
    "  - Both distributions have thin tails extending beyond 20 years and up to 120 years.  \n",
    "  - The default group’s tail is slightly shorter fewer high‑tenure borrowers default.\n",
    "\n",
    "---\n",
    "\n",
    "#### Why We Plotted This\n",
    "\n",
    "- **Visualize Full Distribution:** The violin plot reveals the **density** of experience values (not just summary stats), highlighting where most data points lie.  \n",
    "- **Compare Groups:** It confirms that **longer tenures** are more prevalent among defaulters, while repaid loans cluster toward lower tenures.  "
   ]
  },
  {
   "cell_type": "code",
   "execution_count": 21,
   "id": "e72764d6-38a7-43cd-8f7d-978c86901295",
   "metadata": {},
   "outputs": [
    {
     "data": {
      "image/png": "[encoded data removed]",
      "text/plain": [
       "<Figure size 800x400 with 1 Axes>"
      ]
     },
     "metadata": {},
     "output_type": "display_data"
    }
   ],
   "source": [
    "# person_home_ownership bar chart plot\n",
    "\n",
    "# compute proportion\n",
    "home_ownership_counts = loan_df['person_home_ownership'].value_counts(normalize=True)\n",
    "\n",
    "plt.figure(figsize=(8, 4))\n",
    "plt.bar(home_ownership_counts.index, home_ownership_counts.values, color='skyblue')\n",
    "plt.title('Ownership Status Distribution')\n",
    "plt.xlabel('Home Ownership')        \n",
    "plt.ylabel('Proportion')            \n",
    "plt.tight_layout()\n",
    "\n",
    "# save plot\n",
    "plt.savefig(\"graphs/ownership_bar.png\")\n",
    "plt.show()\n"
   ]
  },
  {
   "cell_type": "markdown",
   "id": "d230a383-868b-4b55-80a0-507956662368",
   "metadata": {},
   "source": [
    "### Home Ownership Status Distribution\n",
    "\n",
    "- **Renters (RENT):** approximately 52% of applicants rent their home, making it the largest group.  \n",
    "- **Mortgage Holders (MORTGAGE):**  approximately 41% carry a mortgage, representing the second‑largest segment.  \n",
    "- **Owners (OWN):** Only about 7% fully own their home, suggesting outright ownership is relatively rare.  \n",
    "- **Other:** A very small fraction (<1%) fall into “OTHER” .\n",
    "\n",
    "**Key Insight:**  \n",
    "Most borrowers are either renting or financing a purchase via mortgage very few own their home outright. This distribution will help us analyze whether home‑ownership status correlates with default risk and guide encoding strategies (e.g., one‑hot vs. target encoding) for our model.  \n"
   ]
  },
  {
   "cell_type": "code",
   "execution_count": 22,
   "id": "54e81ab1-1dd8-49b3-b4c6-73f163ad4fab",
   "metadata": {},
   "outputs": [
    {
     "data": {
      "image/png": "[encoded data removed]",
      "text/plain": [
       "<Figure size 800x600 with 1 Axes>"
      ]
     },
     "metadata": {},
     "output_type": "display_data"
    }
   ],
   "source": [
    "# Employment Experience by Loan Repayment Status\n",
    "\n",
    "plt.figure(figsize=(8, 6))\n",
    "sns.boxplot(\n",
    "    x='loan_status',\n",
    "    y='loan_amnt',\n",
    "    hue='loan_status',          \n",
    "    data=loan_df,\n",
    "    palette={0: '#4C72B0', 1: '#DD8452'},\n",
    "    dodge=False,                \n",
    "    medianprops={'color': 'red', 'linewidth': 2})\n",
    "plt.legend([], [], frameon=False)  \n",
    "plt.title('Loan Amount by Loan Repayment Status')\n",
    "plt.xlabel('Loan Status (0 = Default, 1 = Repaid)')\n",
    "plt.ylabel('Loan amount')\n",
    "plt.tight_layout()\n",
    "\n",
    "#save fig\n",
    "plt.savefig('graphs/loanamount_byrepayment.png')\n",
    "plt.show()\n"
   ]
  },
  {
   "cell_type": "markdown",
   "id": "71d9839b-baaa-4c3b-83e8-93a5d6caa381",
   "metadata": {},
   "source": [
    "### Loan Amount by Loan Repayment Status\n",
    "\n",
    "- **Median Loan Size:**  \n",
    "  - **Default (0):** \\$8 000  \n",
    "  - **Repaid (1):** \\$9 500  \n",
    "  The red median lines show that borrowers who default tend to request slightly lower loan amounts.\n",
    "\n",
    "- **Whiskers & Outliers:**  \n",
    "  - Both groups have lower whiskers near \\$1 000, reflecting a small segment of very small loans.  \n",
    "  - The repaid group’s upper whisker extends to \\$30 000  (vs. \\$22 000 for default), and both groups show many outliers at \\$35 000, highlighting a cluster of large loans."
   ]
  },
  {
   "cell_type": "code",
   "execution_count": 23,
   "id": "408cb410-c289-403a-94a0-5a447e11cfb8",
   "metadata": {},
   "outputs": [
    {
     "data": {
      "image/png": "[encoded data removed]",
      "text/plain": [
       "<Figure size 1000x600 with 1 Axes>"
      ]
     },
     "metadata": {},
     "output_type": "display_data"
    }
   ],
   "source": [
    "#Loan amount\n",
    "\n",
    "median_exp = loan_df['loan_amnt'].median()\n",
    "\n",
    "plt.figure(figsize=(10, 6))\n",
    "plt.hist(loan_df['loan_amnt'], bins= 40, edgecolor='black')\n",
    "plt.axvline(median_exp, color='red', linestyle='--', linewidth=2, label=f'Median = ${median_income:,.0f}')\n",
    "plt.title('Loan Amount Distribution')\n",
    "plt.xlabel('Loan amouny in \"years\"')\n",
    "plt.ylabel('Count')\n",
    "plt.tight_layout()\n",
    "\n",
    "#save plot\n",
    "plt.savefig(\"graphs/loan_amt.png\")\n",
    "plt.show()\n"
   ]
  },
  {
   "cell_type": "markdown",
   "id": "63cce6a3-734a-4a15-968f-71ff1e829602",
   "metadata": {},
   "source": [
    "### Loan Amount Distribution\n",
    "\n",
    "- The histogram shows several common loan‑size clusters around \\$5 000, \\$10 000, \\$15 000, \\$20 000, and \\$25 000.  \n",
    "- The red dashed line marks the **median** loan amount at about **\\$8 000**, indicating half of loans are smaller than this and half larger.  \n",
    "- There’s a long right tail out to \\$35 000, representing a minority of very large loans.  \n",
    "\n",
    "**Key Point:** Most borrowers request mid‑range loans (\\$5 k–\\$15 k), a log transformation would be considered before modeling.  "
   ]
  },
  {
   "cell_type": "markdown",
   "id": "d7fafa68-fa23-41d9-8beb-47df7d8c0816",
   "metadata": {},
   "source": [
    "# 4. Data Cleaning and Preprocessing"
   ]
  },
  {
   "cell_type": "markdown",
   "id": "2045b313-88e7-467f-9e89-860792668052",
   "metadata": {},
   "source": [
    "#### Ethics & Regulatory Considerations for Using Age\n",
    "\n",
    "- **Protected Characteristic:**  \n",
    "  Under the Equal Credit Opportunity Act, age is a protected class lenders cannot use it to deny or price credit. Hence, age will be dropped from the feature.\n",
    "\n",
    "`Refrence`: https://www.consumerfinance.gov/ask-cfpb/can-a-card-issuer-consider-my-age-when-deciding-whether-to-issue-a-credit-card-to-me-en-20/#:~:text=Under%20the%20Equal%20Credit%20Opportunity,used%20in%20the%20applicant's%20favor\n"
   ]
  },
  {
   "cell_type": "code",
   "execution_count": 24,
   "id": "d4fef459-5a33-45ca-b608-aee7b0ba3267",
   "metadata": {},
   "outputs": [],
   "source": [
    "# Drop age column\n",
    "loan_df = loan_df.drop(columns = 'person_age')"
   ]
  },
  {
   "cell_type": "code",
   "execution_count": 25,
   "id": "9817d9a6-caf7-434f-a522-c07959917244",
   "metadata": {},
   "outputs": [],
   "source": [
    "# max experince years in the data is 120 right. \n",
    "# drop experince above 60 Refrence: https://www.guardianlife.com/retirement/average-age\n",
    "\n",
    "loan_df = loan_df[loan_df['person_emp_exp'] <= 60]"
   ]
  },
  {
   "cell_type": "code",
   "execution_count": 26,
   "id": "a43e70e7-db4f-45ab-9dcf-cc93fc8e6c79",
   "metadata": {},
   "outputs": [
    {
     "data": {
      "text/plain": [
       "(44990, 13)"
      ]
     },
     "execution_count": 26,
     "metadata": {},
     "output_type": "execute_result"
    }
   ],
   "source": [
    "#confirm if experince over 60 was succesfully dropped\n",
    "loan_df.shape"
   ]
  },
  {
   "cell_type": "code",
   "execution_count": 27,
   "id": "8a1b93da-b294-421d-bf2f-026f67e44867",
   "metadata": {},
   "outputs": [],
   "source": [
    "#convert cb_person_cred_hist_length to int\n",
    "loan_df['cb_person_cred_hist_length'] = loan_df['cb_person_cred_hist_length'].round().astype(int)"
   ]
  },
  {
   "cell_type": "code",
   "execution_count": 28,
   "id": "fba4a1cc-2304-41dd-96e0-df28931920cb",
   "metadata": {},
   "outputs": [],
   "source": [
    "#reverse the target variable such that 1 means default and 0 means repaid\n",
    "\n",
    "loan_df['loan_status'] = loan_df['loan_status'].map({1: 0, 0: 1})"
   ]
  },
  {
   "cell_type": "code",
   "execution_count": 29,
   "id": "60554e06-d539-4804-9c09-1a9770f567a3",
   "metadata": {},
   "outputs": [
    {
     "data": {
      "text/html": [
       "<div>\n",
       "<style scoped>\n",
       "    .dataframe tbody tr th:only-of-type {\n",
       "        vertical-align: middle;\n",
       "    }\n",
       "\n",
       "    .dataframe tbody tr th {\n",
       "        vertical-align: top;\n",
       "    }\n",
       "\n",
       "    .dataframe thead th {\n",
       "        text-align: right;\n",
       "    }\n",
       "</style>\n",
       "<table border=\"1\" class=\"dataframe\">\n",
       "  <thead>\n",
       "    <tr style=\"text-align: right;\">\n",
       "      <th></th>\n",
       "      <th>person_gender</th>\n",
       "      <th>person_education</th>\n",
       "      <th>person_income</th>\n",
       "      <th>person_emp_exp</th>\n",
       "      <th>person_home_ownership</th>\n",
       "      <th>loan_amnt</th>\n",
       "      <th>loan_intent</th>\n",
       "      <th>loan_int_rate</th>\n",
       "      <th>loan_percent_income</th>\n",
       "      <th>cb_person_cred_hist_length</th>\n",
       "      <th>credit_score</th>\n",
       "      <th>previous_loan_defaults_on_file</th>\n",
       "      <th>loan_status</th>\n",
       "    </tr>\n",
       "  </thead>\n",
       "  <tbody>\n",
       "    <tr>\n",
       "      <th>0</th>\n",
       "      <td>female</td>\n",
       "      <td>Master</td>\n",
       "      <td>71948.0</td>\n",
       "      <td>0</td>\n",
       "      <td>RENT</td>\n",
       "      <td>35000.0</td>\n",
       "      <td>PERSONAL</td>\n",
       "      <td>16.02</td>\n",
       "      <td>0.49</td>\n",
       "      <td>3</td>\n",
       "      <td>561</td>\n",
       "      <td>No</td>\n",
       "      <td>0</td>\n",
       "    </tr>\n",
       "    <tr>\n",
       "      <th>1</th>\n",
       "      <td>female</td>\n",
       "      <td>High School</td>\n",
       "      <td>12282.0</td>\n",
       "      <td>0</td>\n",
       "      <td>OWN</td>\n",
       "      <td>1000.0</td>\n",
       "      <td>EDUCATION</td>\n",
       "      <td>11.14</td>\n",
       "      <td>0.08</td>\n",
       "      <td>2</td>\n",
       "      <td>504</td>\n",
       "      <td>Yes</td>\n",
       "      <td>1</td>\n",
       "    </tr>\n",
       "    <tr>\n",
       "      <th>2</th>\n",
       "      <td>female</td>\n",
       "      <td>High School</td>\n",
       "      <td>12438.0</td>\n",
       "      <td>3</td>\n",
       "      <td>MORTGAGE</td>\n",
       "      <td>5500.0</td>\n",
       "      <td>MEDICAL</td>\n",
       "      <td>12.87</td>\n",
       "      <td>0.44</td>\n",
       "      <td>3</td>\n",
       "      <td>635</td>\n",
       "      <td>No</td>\n",
       "      <td>0</td>\n",
       "    </tr>\n",
       "    <tr>\n",
       "      <th>3</th>\n",
       "      <td>female</td>\n",
       "      <td>Bachelor</td>\n",
       "      <td>79753.0</td>\n",
       "      <td>0</td>\n",
       "      <td>RENT</td>\n",
       "      <td>35000.0</td>\n",
       "      <td>MEDICAL</td>\n",
       "      <td>15.23</td>\n",
       "      <td>0.44</td>\n",
       "      <td>2</td>\n",
       "      <td>675</td>\n",
       "      <td>No</td>\n",
       "      <td>0</td>\n",
       "    </tr>\n",
       "    <tr>\n",
       "      <th>4</th>\n",
       "      <td>male</td>\n",
       "      <td>Master</td>\n",
       "      <td>66135.0</td>\n",
       "      <td>1</td>\n",
       "      <td>RENT</td>\n",
       "      <td>35000.0</td>\n",
       "      <td>MEDICAL</td>\n",
       "      <td>14.27</td>\n",
       "      <td>0.53</td>\n",
       "      <td>4</td>\n",
       "      <td>586</td>\n",
       "      <td>No</td>\n",
       "      <td>0</td>\n",
       "    </tr>\n",
       "  </tbody>\n",
       "</table>\n",
       "</div>"
      ],
      "text/plain": [
       "  person_gender person_education  person_income  person_emp_exp  \\\n",
       "0        female           Master        71948.0               0   \n",
       "1        female      High School        12282.0               0   \n",
       "2        female      High School        12438.0               3   \n",
       "3        female         Bachelor        79753.0               0   \n",
       "4          male           Master        66135.0               1   \n",
       "\n",
       "  person_home_ownership  loan_amnt loan_intent  loan_int_rate  \\\n",
       "0                  RENT    35000.0    PERSONAL          16.02   \n",
       "1                   OWN     1000.0   EDUCATION          11.14   \n",
       "2              MORTGAGE     5500.0     MEDICAL          12.87   \n",
       "3                  RENT    35000.0     MEDICAL          15.23   \n",
       "4                  RENT    35000.0     MEDICAL          14.27   \n",
       "\n",
       "   loan_percent_income  cb_person_cred_hist_length  credit_score  \\\n",
       "0                 0.49                           3           561   \n",
       "1                 0.08                           2           504   \n",
       "2                 0.44                           3           635   \n",
       "3                 0.44                           2           675   \n",
       "4                 0.53                           4           586   \n",
       "\n",
       "  previous_loan_defaults_on_file  loan_status  \n",
       "0                             No            0  \n",
       "1                            Yes            1  \n",
       "2                             No            0  \n",
       "3                             No            0  \n",
       "4                             No            0  "
      ]
     },
     "execution_count": 29,
     "metadata": {},
     "output_type": "execute_result"
    }
   ],
   "source": [
    "loan_df.head()"
   ]
  },
  {
   "cell_type": "code",
   "execution_count": 30,
   "id": "ddb0641a-e5b5-453c-97b1-8f5e075886bf",
   "metadata": {},
   "outputs": [],
   "source": [
    "# Features to log‑transform (to reduce skew)\n",
    "log_transform_features = ['person_income', 'loan_amnt']\n",
    "onehot_cols = ['person_gender', 'person_home_ownership', 'loan_intent']\n",
    "label_cols = ['person_education', 'previous_loan_defaults_on_file']"
   ]
  },
  {
   "cell_type": "code",
   "execution_count": 31,
   "id": "6df64980-4a9d-4fba-ae75-373acf32fc4f",
   "metadata": {},
   "outputs": [],
   "source": [
    "# Transformers\n",
    "log_transformer = Pipeline(steps=[\n",
    "    ('log', FunctionTransformer(np.log1p))\n",
    "])\n",
    "\n",
    "onehot_transformer = Pipeline(steps=[\n",
    "    ('onehot', OneHotEncoder(handle_unknown='ignore', sparse_output=False))\n",
    "])\n",
    "\n",
    "label_transformer = Pipeline(steps=[\n",
    "    ('ordinal', OrdinalEncoder(handle_unknown='use_encoded_value', unknown_value=-1))\n",
    "])"
   ]
  },
  {
   "cell_type": "code",
   "execution_count": 32,
   "id": "b8e20cdc-f069-47cb-9fcf-e0656905f72d",
   "metadata": {},
   "outputs": [],
   "source": [
    "preprocessor = ColumnTransformer(transformers=[\n",
    "    ('log',    log_transformer, log_transform_features),\n",
    "    ('onehot', onehot_transformer, onehot_cols),\n",
    "    ('ord',    label_transformer, label_cols)])"
   ]
  },
  {
   "cell_type": "code",
   "execution_count": 33,
   "id": "843ec602-d0f7-42f6-ad97-4f9897320948",
   "metadata": {},
   "outputs": [],
   "source": [
    "feature_cols = log_transform_features + onehot_cols + label_cols"
   ]
  },
  {
   "cell_type": "markdown",
   "id": "69167219-114c-446f-ba7a-0a5c1dde1206",
   "metadata": {},
   "source": [
    "# Modeling"
   ]
  },
  {
   "cell_type": "code",
   "execution_count": 34,
   "id": "bdeab8e7-c9ac-4d34-98ec-7b44a0f90fd3",
   "metadata": {},
   "outputs": [],
   "source": [
    "# Define X and y\n",
    "\n",
    "# include person_emp_exp, loan_amnt\n",
    "X = loan_df[feature_cols]\n",
    "y = loan_df['loan_status']"
   ]
  },
  {
   "cell_type": "code",
   "execution_count": 35,
   "id": "1d01b4d5-b786-46c2-8796-6f28d489cd04",
   "metadata": {},
   "outputs": [],
   "source": [
    "X_train, X_test, y_train, y_test = train_test_split(\n",
    "    X, y, test_size=0.2, stratify=y, random_state=42\n",
    ")"
   ]
  },
  {
   "cell_type": "code",
   "execution_count": 36,
   "id": "8ff8f1c8-cbbc-4d47-b017-a95f2df8925f",
   "metadata": {},
   "outputs": [],
   "source": [
    "full_pipeline = Pipeline([\n",
    "    ('preprocessor', preprocessor),\n",
    "    ('scaler', StandardScaler(with_mean=False)),\n",
    "    ('logreg', LogisticRegression(max_iter=1000))\n",
    "])"
   ]
  },
  {
   "cell_type": "code",
   "execution_count": 37,
   "id": "c615bffa-1569-4e68-a2df-33e85a01412d",
   "metadata": {},
   "outputs": [
    {
     "ename": "AttributeError",
     "evalue": "This 'Pipeline' has no attribute 'fit_transform'",
     "output_type": "error",
     "traceback": [
      "\u001b[31m---------------------------------------------------------------------------\u001b[39m",
      "\u001b[31mAttributeError\u001b[39m                            Traceback (most recent call last)",
      "\u001b[36mCell\u001b[39m\u001b[36m \u001b[39m\u001b[32mIn[37]\u001b[39m\u001b[32m, line 1\u001b[39m\n\u001b[32m----> \u001b[39m\u001b[32m1\u001b[39m X_train_prepped = \u001b[43mfull_pipeline\u001b[49m\u001b[43m.\u001b[49m\u001b[43mfit_transform\u001b[49m(X_train)\n\u001b[32m      2\u001b[39m X_test_prepped = full_pipeline.transform(X_test)\n",
      "\u001b[36mFile \u001b[39m\u001b[32m~/dsb/lib/python3.13/site-packages/sklearn/utils/_available_if.py:43\u001b[39m, in \u001b[36m_AvailableIfDescriptor.__get__\u001b[39m\u001b[34m(self, obj, owner)\u001b[39m\n\u001b[32m     39\u001b[39m \u001b[38;5;28;01mdef\u001b[39;00m\u001b[38;5;250m \u001b[39m\u001b[34m__get__\u001b[39m(\u001b[38;5;28mself\u001b[39m, obj, owner=\u001b[38;5;28;01mNone\u001b[39;00m):\n\u001b[32m     40\u001b[39m     \u001b[38;5;28;01mif\u001b[39;00m obj \u001b[38;5;129;01mis\u001b[39;00m \u001b[38;5;129;01mnot\u001b[39;00m \u001b[38;5;28;01mNone\u001b[39;00m:\n\u001b[32m     41\u001b[39m         \u001b[38;5;66;03m# delegate only on instances, not the classes.\u001b[39;00m\n\u001b[32m     42\u001b[39m         \u001b[38;5;66;03m# this is to allow access to the docstrings.\u001b[39;00m\n\u001b[32m---> \u001b[39m\u001b[32m43\u001b[39m         \u001b[38;5;28;43mself\u001b[39;49m\u001b[43m.\u001b[49m\u001b[43m_check\u001b[49m\u001b[43m(\u001b[49m\u001b[43mobj\u001b[49m\u001b[43m,\u001b[49m\u001b[43m \u001b[49m\u001b[43mowner\u001b[49m\u001b[43m=\u001b[49m\u001b[43mowner\u001b[49m\u001b[43m)\u001b[49m\n\u001b[32m     44\u001b[39m         out = MethodType(\u001b[38;5;28mself\u001b[39m.fn, obj)\n\u001b[32m     46\u001b[39m     \u001b[38;5;28;01melse\u001b[39;00m:\n\u001b[32m     47\u001b[39m         \u001b[38;5;66;03m# This makes it possible to use the decorated method as an unbound method,\u001b[39;00m\n\u001b[32m     48\u001b[39m         \u001b[38;5;66;03m# for instance when monkeypatching.\u001b[39;00m\n",
      "\u001b[36mFile \u001b[39m\u001b[32m~/dsb/lib/python3.13/site-packages/sklearn/utils/_available_if.py:37\u001b[39m, in \u001b[36m_AvailableIfDescriptor._check\u001b[39m\u001b[34m(self, obj, owner)\u001b[39m\n\u001b[32m     34\u001b[39m     \u001b[38;5;28;01mraise\u001b[39;00m \u001b[38;5;167;01mAttributeError\u001b[39;00m(attr_err_msg) \u001b[38;5;28;01mfrom\u001b[39;00m\u001b[38;5;250m \u001b[39m\u001b[34;01me\u001b[39;00m\n\u001b[32m     36\u001b[39m \u001b[38;5;28;01mif\u001b[39;00m \u001b[38;5;129;01mnot\u001b[39;00m check_result:\n\u001b[32m---> \u001b[39m\u001b[32m37\u001b[39m     \u001b[38;5;28;01mraise\u001b[39;00m \u001b[38;5;167;01mAttributeError\u001b[39;00m(attr_err_msg)\n",
      "\u001b[31mAttributeError\u001b[39m: This 'Pipeline' has no attribute 'fit_transform'"
     ]
    }
   ],
   "source": [
    "#X_train_prepped = full_pipeline.fit_transform(X_train)\n",
    "#X_test_prepped = full_pipeline.transform(X_test)"
   ]
  },
  {
   "cell_type": "markdown",
   "id": "ccfa5171-9ded-4b6f-b0f5-14a607a17e49",
   "metadata": {},
   "source": [
    "#### Next is to split X and y into train and test and then apply the pipeline.\n",
    "Let me know if you need help with this."
   ]
  },
  {
   "cell_type": "code",
   "execution_count": 41,
   "id": "172476ac-126a-4ecd-92de-6498f9e25368",
   "metadata": {},
   "outputs": [],
   "source": []
  },
  {
   "cell_type": "code",
   "execution_count": 38,
   "id": "3ed4b6c2-b0d9-4ba2-be64-c5d74d16d67f",
   "metadata": {},
   "outputs": [
    {
     "data": {
      "text/html": [
       "<style>#sk-container-id-1 {\n",
       "  /* Definition of color scheme common for light and dark mode */\n",
       "  --sklearn-color-text: #000;\n",
       "  --sklearn-color-text-muted: #666;\n",
       "  --sklearn-color-line: gray;\n",
       "  /* Definition of color scheme for unfitted estimators */\n",
       "  --sklearn-color-unfitted-level-0: #fff5e6;\n",
       "  --sklearn-color-unfitted-level-1: #f6e4d2;\n",
       "  --sklearn-color-unfitted-level-2: #ffe0b3;\n",
       "  --sklearn-color-unfitted-level-3: chocolate;\n",
       "  /* Definition of color scheme for fitted estimators */\n",
       "  --sklearn-color-fitted-level-0: #f0f8ff;\n",
       "  --sklearn-color-fitted-level-1: #d4ebff;\n",
       "  --sklearn-color-fitted-level-2: #b3dbfd;\n",
       "  --sklearn-color-fitted-level-3: cornflowerblue;\n",
       "\n",
       "  /* Specific color for light theme */\n",
       "  --sklearn-color-text-on-default-background: var(--sg-text-color, var(--theme-code-foreground, var(--jp-content-font-color1, black)));\n",
       "  --sklearn-color-background: var(--sg-background-color, var(--theme-background, var(--jp-layout-color0, white)));\n",
       "  --sklearn-color-border-box: var(--sg-text-color, var(--theme-code-foreground, var(--jp-content-font-color1, black)));\n",
       "  --sklearn-color-icon: #696969;\n",
       "\n",
       "  @media (prefers-color-scheme: dark) {\n",
       "    /* Redefinition of color scheme for dark theme */\n",
       "    --sklearn-color-text-on-default-background: var(--sg-text-color, var(--theme-code-foreground, var(--jp-content-font-color1, white)));\n",
       "    --sklearn-color-background: var(--sg-background-color, var(--theme-background, var(--jp-layout-color0, #111)));\n",
       "    --sklearn-color-border-box: var(--sg-text-color, var(--theme-code-foreground, var(--jp-content-font-color1, white)));\n",
       "    --sklearn-color-icon: #878787;\n",
       "  }\n",
       "}\n",
       "\n",
       "#sk-container-id-1 {\n",
       "  color: var(--sklearn-color-text);\n",
       "}\n",
       "\n",
       "#sk-container-id-1 pre {\n",
       "  padding: 0;\n",
       "}\n",
       "\n",
       "#sk-container-id-1 input.sk-hidden--visually {\n",
       "  border: 0;\n",
       "  clip: rect(1px 1px 1px 1px);\n",
       "  clip: rect(1px, 1px, 1px, 1px);\n",
       "  height: 1px;\n",
       "  margin: -1px;\n",
       "  overflow: hidden;\n",
       "  padding: 0;\n",
       "  position: absolute;\n",
       "  width: 1px;\n",
       "}\n",
       "\n",
       "#sk-container-id-1 div.sk-dashed-wrapped {\n",
       "  border: 1px dashed var(--sklearn-color-line);\n",
       "  margin: 0 0.4em 0.5em 0.4em;\n",
       "  box-sizing: border-box;\n",
       "  padding-bottom: 0.4em;\n",
       "  background-color: var(--sklearn-color-background);\n",
       "}\n",
       "\n",
       "#sk-container-id-1 div.sk-container {\n",
       "  /* jupyter's `normalize.less` sets `[hidden] { display: none; }`\n",
       "     but bootstrap.min.css set `[hidden] { display: none !important; }`\n",
       "     so we also need the `!important` here to be able to override the\n",
       "     default hidden behavior on the sphinx rendered scikit-learn.org.\n",
       "     See: https://github.com/scikit-learn/scikit-learn/issues/21755 */\n",
       "  display: inline-block !important;\n",
       "  position: relative;\n",
       "}\n",
       "\n",
       "#sk-container-id-1 div.sk-text-repr-fallback {\n",
       "  display: none;\n",
       "}\n",
       "\n",
       "div.sk-parallel-item,\n",
       "div.sk-serial,\n",
       "div.sk-item {\n",
       "  /* draw centered vertical line to link estimators */\n",
       "  background-image: linear-gradient(var(--sklearn-color-text-on-default-background), var(--sklearn-color-text-on-default-background));\n",
       "  background-size: 2px 100%;\n",
       "  background-repeat: no-repeat;\n",
       "  background-position: center center;\n",
       "}\n",
       "\n",
       "/* Parallel-specific style estimator block */\n",
       "\n",
       "#sk-container-id-1 div.sk-parallel-item::after {\n",
       "  content: \"\";\n",
       "  width: 100%;\n",
       "  border-bottom: 2px solid var(--sklearn-color-text-on-default-background);\n",
       "  flex-grow: 1;\n",
       "}\n",
       "\n",
       "#sk-container-id-1 div.sk-parallel {\n",
       "  display: flex;\n",
       "  align-items: stretch;\n",
       "  justify-content: center;\n",
       "  background-color: var(--sklearn-color-background);\n",
       "  position: relative;\n",
       "}\n",
       "\n",
       "#sk-container-id-1 div.sk-parallel-item {\n",
       "  display: flex;\n",
       "  flex-direction: column;\n",
       "}\n",
       "\n",
       "#sk-container-id-1 div.sk-parallel-item:first-child::after {\n",
       "  align-self: flex-end;\n",
       "  width: 50%;\n",
       "}\n",
       "\n",
       "#sk-container-id-1 div.sk-parallel-item:last-child::after {\n",
       "  align-self: flex-start;\n",
       "  width: 50%;\n",
       "}\n",
       "\n",
       "#sk-container-id-1 div.sk-parallel-item:only-child::after {\n",
       "  width: 0;\n",
       "}\n",
       "\n",
       "/* Serial-specific style estimator block */\n",
       "\n",
       "#sk-container-id-1 div.sk-serial {\n",
       "  display: flex;\n",
       "  flex-direction: column;\n",
       "  align-items: center;\n",
       "  background-color: var(--sklearn-color-background);\n",
       "  padding-right: 1em;\n",
       "  padding-left: 1em;\n",
       "}\n",
       "\n",
       "\n",
       "/* Toggleable style: style used for estimator/Pipeline/ColumnTransformer box that is\n",
       "clickable and can be expanded/collapsed.\n",
       "- Pipeline and ColumnTransformer use this feature and define the default style\n",
       "- Estimators will overwrite some part of the style using the `sk-estimator` class\n",
       "*/\n",
       "\n",
       "/* Pipeline and ColumnTransformer style (default) */\n",
       "\n",
       "#sk-container-id-1 div.sk-toggleable {\n",
       "  /* Default theme specific background. It is overwritten whether we have a\n",
       "  specific estimator or a Pipeline/ColumnTransformer */\n",
       "  background-color: var(--sklearn-color-background);\n",
       "}\n",
       "\n",
       "/* Toggleable label */\n",
       "#sk-container-id-1 label.sk-toggleable__label {\n",
       "  cursor: pointer;\n",
       "  display: flex;\n",
       "  width: 100%;\n",
       "  margin-bottom: 0;\n",
       "  padding: 0.5em;\n",
       "  box-sizing: border-box;\n",
       "  text-align: center;\n",
       "  align-items: start;\n",
       "  justify-content: space-between;\n",
       "  gap: 0.5em;\n",
       "}\n",
       "\n",
       "#sk-container-id-1 label.sk-toggleable__label .caption {\n",
       "  font-size: 0.6rem;\n",
       "  font-weight: lighter;\n",
       "  color: var(--sklearn-color-text-muted);\n",
       "}\n",
       "\n",
       "#sk-container-id-1 label.sk-toggleable__label-arrow:before {\n",
       "  /* Arrow on the left of the label */\n",
       "  content: \"▸\";\n",
       "  float: left;\n",
       "  margin-right: 0.25em;\n",
       "  color: var(--sklearn-color-icon);\n",
       "}\n",
       "\n",
       "#sk-container-id-1 label.sk-toggleable__label-arrow:hover:before {\n",
       "  color: var(--sklearn-color-text);\n",
       "}\n",
       "\n",
       "/* Toggleable content - dropdown */\n",
       "\n",
       "#sk-container-id-1 div.sk-toggleable__content {\n",
       "  max-height: 0;\n",
       "  max-width: 0;\n",
       "  overflow: hidden;\n",
       "  text-align: left;\n",
       "  /* unfitted */\n",
       "  background-color: var(--sklearn-color-unfitted-level-0);\n",
       "}\n",
       "\n",
       "#sk-container-id-1 div.sk-toggleable__content.fitted {\n",
       "  /* fitted */\n",
       "  background-color: var(--sklearn-color-fitted-level-0);\n",
       "}\n",
       "\n",
       "#sk-container-id-1 div.sk-toggleable__content pre {\n",
       "  margin: 0.2em;\n",
       "  border-radius: 0.25em;\n",
       "  color: var(--sklearn-color-text);\n",
       "  /* unfitted */\n",
       "  background-color: var(--sklearn-color-unfitted-level-0);\n",
       "}\n",
       "\n",
       "#sk-container-id-1 div.sk-toggleable__content.fitted pre {\n",
       "  /* unfitted */\n",
       "  background-color: var(--sklearn-color-fitted-level-0);\n",
       "}\n",
       "\n",
       "#sk-container-id-1 input.sk-toggleable__control:checked~div.sk-toggleable__content {\n",
       "  /* Expand drop-down */\n",
       "  max-height: 200px;\n",
       "  max-width: 100%;\n",
       "  overflow: auto;\n",
       "}\n",
       "\n",
       "#sk-container-id-1 input.sk-toggleable__control:checked~label.sk-toggleable__label-arrow:before {\n",
       "  content: \"▾\";\n",
       "}\n",
       "\n",
       "/* Pipeline/ColumnTransformer-specific style */\n",
       "\n",
       "#sk-container-id-1 div.sk-label input.sk-toggleable__control:checked~label.sk-toggleable__label {\n",
       "  color: var(--sklearn-color-text);\n",
       "  background-color: var(--sklearn-color-unfitted-level-2);\n",
       "}\n",
       "\n",
       "#sk-container-id-1 div.sk-label.fitted input.sk-toggleable__control:checked~label.sk-toggleable__label {\n",
       "  background-color: var(--sklearn-color-fitted-level-2);\n",
       "}\n",
       "\n",
       "/* Estimator-specific style */\n",
       "\n",
       "/* Colorize estimator box */\n",
       "#sk-container-id-1 div.sk-estimator input.sk-toggleable__control:checked~label.sk-toggleable__label {\n",
       "  /* unfitted */\n",
       "  background-color: var(--sklearn-color-unfitted-level-2);\n",
       "}\n",
       "\n",
       "#sk-container-id-1 div.sk-estimator.fitted input.sk-toggleable__control:checked~label.sk-toggleable__label {\n",
       "  /* fitted */\n",
       "  background-color: var(--sklearn-color-fitted-level-2);\n",
       "}\n",
       "\n",
       "#sk-container-id-1 div.sk-label label.sk-toggleable__label,\n",
       "#sk-container-id-1 div.sk-label label {\n",
       "  /* The background is the default theme color */\n",
       "  color: var(--sklearn-color-text-on-default-background);\n",
       "}\n",
       "\n",
       "/* On hover, darken the color of the background */\n",
       "#sk-container-id-1 div.sk-label:hover label.sk-toggleable__label {\n",
       "  color: var(--sklearn-color-text);\n",
       "  background-color: var(--sklearn-color-unfitted-level-2);\n",
       "}\n",
       "\n",
       "/* Label box, darken color on hover, fitted */\n",
       "#sk-container-id-1 div.sk-label.fitted:hover label.sk-toggleable__label.fitted {\n",
       "  color: var(--sklearn-color-text);\n",
       "  background-color: var(--sklearn-color-fitted-level-2);\n",
       "}\n",
       "\n",
       "/* Estimator label */\n",
       "\n",
       "#sk-container-id-1 div.sk-label label {\n",
       "  font-family: monospace;\n",
       "  font-weight: bold;\n",
       "  display: inline-block;\n",
       "  line-height: 1.2em;\n",
       "}\n",
       "\n",
       "#sk-container-id-1 div.sk-label-container {\n",
       "  text-align: center;\n",
       "}\n",
       "\n",
       "/* Estimator-specific */\n",
       "#sk-container-id-1 div.sk-estimator {\n",
       "  font-family: monospace;\n",
       "  border: 1px dotted var(--sklearn-color-border-box);\n",
       "  border-radius: 0.25em;\n",
       "  box-sizing: border-box;\n",
       "  margin-bottom: 0.5em;\n",
       "  /* unfitted */\n",
       "  background-color: var(--sklearn-color-unfitted-level-0);\n",
       "}\n",
       "\n",
       "#sk-container-id-1 div.sk-estimator.fitted {\n",
       "  /* fitted */\n",
       "  background-color: var(--sklearn-color-fitted-level-0);\n",
       "}\n",
       "\n",
       "/* on hover */\n",
       "#sk-container-id-1 div.sk-estimator:hover {\n",
       "  /* unfitted */\n",
       "  background-color: var(--sklearn-color-unfitted-level-2);\n",
       "}\n",
       "\n",
       "#sk-container-id-1 div.sk-estimator.fitted:hover {\n",
       "  /* fitted */\n",
       "  background-color: var(--sklearn-color-fitted-level-2);\n",
       "}\n",
       "\n",
       "/* Specification for estimator info (e.g. \"i\" and \"?\") */\n",
       "\n",
       "/* Common style for \"i\" and \"?\" */\n",
       "\n",
       ".sk-estimator-doc-link,\n",
       "a:link.sk-estimator-doc-link,\n",
       "a:visited.sk-estimator-doc-link {\n",
       "  float: right;\n",
       "  font-size: smaller;\n",
       "  line-height: 1em;\n",
       "  font-family: monospace;\n",
       "  background-color: var(--sklearn-color-background);\n",
       "  border-radius: 1em;\n",
       "  height: 1em;\n",
       "  width: 1em;\n",
       "  text-decoration: none !important;\n",
       "  margin-left: 0.5em;\n",
       "  text-align: center;\n",
       "  /* unfitted */\n",
       "  border: var(--sklearn-color-unfitted-level-1) 1pt solid;\n",
       "  color: var(--sklearn-color-unfitted-level-1);\n",
       "}\n",
       "\n",
       ".sk-estimator-doc-link.fitted,\n",
       "a:link.sk-estimator-doc-link.fitted,\n",
       "a:visited.sk-estimator-doc-link.fitted {\n",
       "  /* fitted */\n",
       "  border: var(--sklearn-color-fitted-level-1) 1pt solid;\n",
       "  color: var(--sklearn-color-fitted-level-1);\n",
       "}\n",
       "\n",
       "/* On hover */\n",
       "div.sk-estimator:hover .sk-estimator-doc-link:hover,\n",
       ".sk-estimator-doc-link:hover,\n",
       "div.sk-label-container:hover .sk-estimator-doc-link:hover,\n",
       ".sk-estimator-doc-link:hover {\n",
       "  /* unfitted */\n",
       "  background-color: var(--sklearn-color-unfitted-level-3);\n",
       "  color: var(--sklearn-color-background);\n",
       "  text-decoration: none;\n",
       "}\n",
       "\n",
       "div.sk-estimator.fitted:hover .sk-estimator-doc-link.fitted:hover,\n",
       ".sk-estimator-doc-link.fitted:hover,\n",
       "div.sk-label-container:hover .sk-estimator-doc-link.fitted:hover,\n",
       ".sk-estimator-doc-link.fitted:hover {\n",
       "  /* fitted */\n",
       "  background-color: var(--sklearn-color-fitted-level-3);\n",
       "  color: var(--sklearn-color-background);\n",
       "  text-decoration: none;\n",
       "}\n",
       "\n",
       "/* Span, style for the box shown on hovering the info icon */\n",
       ".sk-estimator-doc-link span {\n",
       "  display: none;\n",
       "  z-index: 9999;\n",
       "  position: relative;\n",
       "  font-weight: normal;\n",
       "  right: .2ex;\n",
       "  padding: .5ex;\n",
       "  margin: .5ex;\n",
       "  width: min-content;\n",
       "  min-width: 20ex;\n",
       "  max-width: 50ex;\n",
       "  color: var(--sklearn-color-text);\n",
       "  box-shadow: 2pt 2pt 4pt #999;\n",
       "  /* unfitted */\n",
       "  background: var(--sklearn-color-unfitted-level-0);\n",
       "  border: .5pt solid var(--sklearn-color-unfitted-level-3);\n",
       "}\n",
       "\n",
       ".sk-estimator-doc-link.fitted span {\n",
       "  /* fitted */\n",
       "  background: var(--sklearn-color-fitted-level-0);\n",
       "  border: var(--sklearn-color-fitted-level-3);\n",
       "}\n",
       "\n",
       ".sk-estimator-doc-link:hover span {\n",
       "  display: block;\n",
       "}\n",
       "\n",
       "/* \"?\"-specific style due to the `<a>` HTML tag */\n",
       "\n",
       "#sk-container-id-1 a.estimator_doc_link {\n",
       "  float: right;\n",
       "  font-size: 1rem;\n",
       "  line-height: 1em;\n",
       "  font-family: monospace;\n",
       "  background-color: var(--sklearn-color-background);\n",
       "  border-radius: 1rem;\n",
       "  height: 1rem;\n",
       "  width: 1rem;\n",
       "  text-decoration: none;\n",
       "  /* unfitted */\n",
       "  color: var(--sklearn-color-unfitted-level-1);\n",
       "  border: var(--sklearn-color-unfitted-level-1) 1pt solid;\n",
       "}\n",
       "\n",
       "#sk-container-id-1 a.estimator_doc_link.fitted {\n",
       "  /* fitted */\n",
       "  border: var(--sklearn-color-fitted-level-1) 1pt solid;\n",
       "  color: var(--sklearn-color-fitted-level-1);\n",
       "}\n",
       "\n",
       "/* On hover */\n",
       "#sk-container-id-1 a.estimator_doc_link:hover {\n",
       "  /* unfitted */\n",
       "  background-color: var(--sklearn-color-unfitted-level-3);\n",
       "  color: var(--sklearn-color-background);\n",
       "  text-decoration: none;\n",
       "}\n",
       "\n",
       "#sk-container-id-1 a.estimator_doc_link.fitted:hover {\n",
       "  /* fitted */\n",
       "  background-color: var(--sklearn-color-fitted-level-3);\n",
       "}\n",
       "</style><div id=\"sk-container-id-1\" class=\"sk-top-container\"><div class=\"sk-text-repr-fallback\"><pre>Pipeline(steps=[(&#x27;preprocessor&#x27;,\n",
       "                 ColumnTransformer(transformers=[(&#x27;log&#x27;,\n",
       "                                                  Pipeline(steps=[(&#x27;log&#x27;,\n",
       "                                                                   FunctionTransformer(func=&lt;ufunc &#x27;log1p&#x27;&gt;))]),\n",
       "                                                  [&#x27;person_income&#x27;,\n",
       "                                                   &#x27;loan_amnt&#x27;]),\n",
       "                                                 (&#x27;onehot&#x27;,\n",
       "                                                  Pipeline(steps=[(&#x27;onehot&#x27;,\n",
       "                                                                   OneHotEncoder(handle_unknown=&#x27;ignore&#x27;,\n",
       "                                                                                 sparse_output=False))]),\n",
       "                                                  [&#x27;person_gender&#x27;,\n",
       "                                                   &#x27;person_home_ownership&#x27;,\n",
       "                                                   &#x27;loan_intent&#x27;]),\n",
       "                                                 (&#x27;ord&#x27;,\n",
       "                                                  Pipeline(steps=[(&#x27;ordinal&#x27;,\n",
       "                                                                   OrdinalEncoder(handle_unknown=&#x27;use_encoded_value&#x27;,\n",
       "                                                                                  unknown_value=-1))]),\n",
       "                                                  [&#x27;person_education&#x27;,\n",
       "                                                   &#x27;previous_loan_defaults_on_file&#x27;])])),\n",
       "                (&#x27;scaler&#x27;, StandardScaler(with_mean=False)),\n",
       "                (&#x27;logreg&#x27;, LogisticRegression(max_iter=1000))])</pre><b>In a Jupyter environment, please rerun this cell to show the HTML representation or trust the notebook. <br />On GitHub, the HTML representation is unable to render, please try loading this page with nbviewer.org.</b></div><div class=\"sk-container\" hidden><div class=\"sk-item sk-dashed-wrapped\"><div class=\"sk-label-container\"><div class=\"sk-label fitted sk-toggleable\"><input class=\"sk-toggleable__control sk-hidden--visually\" id=\"sk-estimator-id-1\" type=\"checkbox\" ><label for=\"sk-estimator-id-1\" class=\"sk-toggleable__label fitted sk-toggleable__label-arrow\"><div><div>Pipeline</div></div><div><a class=\"sk-estimator-doc-link fitted\" rel=\"noreferrer\" target=\"_blank\" href=\"https://scikit-learn.org/1.6/modules/generated/sklearn.pipeline.Pipeline.html\">?<span>Documentation for Pipeline</span></a><span class=\"sk-estimator-doc-link fitted\">i<span>Fitted</span></span></div></label><div class=\"sk-toggleable__content fitted\"><pre>Pipeline(steps=[(&#x27;preprocessor&#x27;,\n",
       "                 ColumnTransformer(transformers=[(&#x27;log&#x27;,\n",
       "                                                  Pipeline(steps=[(&#x27;log&#x27;,\n",
       "                                                                   FunctionTransformer(func=&lt;ufunc &#x27;log1p&#x27;&gt;))]),\n",
       "                                                  [&#x27;person_income&#x27;,\n",
       "                                                   &#x27;loan_amnt&#x27;]),\n",
       "                                                 (&#x27;onehot&#x27;,\n",
       "                                                  Pipeline(steps=[(&#x27;onehot&#x27;,\n",
       "                                                                   OneHotEncoder(handle_unknown=&#x27;ignore&#x27;,\n",
       "                                                                                 sparse_output=False))]),\n",
       "                                                  [&#x27;person_gender&#x27;,\n",
       "                                                   &#x27;person_home_ownership&#x27;,\n",
       "                                                   &#x27;loan_intent&#x27;]),\n",
       "                                                 (&#x27;ord&#x27;,\n",
       "                                                  Pipeline(steps=[(&#x27;ordinal&#x27;,\n",
       "                                                                   OrdinalEncoder(handle_unknown=&#x27;use_encoded_value&#x27;,\n",
       "                                                                                  unknown_value=-1))]),\n",
       "                                                  [&#x27;person_education&#x27;,\n",
       "                                                   &#x27;previous_loan_defaults_on_file&#x27;])])),\n",
       "                (&#x27;scaler&#x27;, StandardScaler(with_mean=False)),\n",
       "                (&#x27;logreg&#x27;, LogisticRegression(max_iter=1000))])</pre></div> </div></div><div class=\"sk-serial\"><div class=\"sk-item sk-dashed-wrapped\"><div class=\"sk-label-container\"><div class=\"sk-label fitted sk-toggleable\"><input class=\"sk-toggleable__control sk-hidden--visually\" id=\"sk-estimator-id-2\" type=\"checkbox\" ><label for=\"sk-estimator-id-2\" class=\"sk-toggleable__label fitted sk-toggleable__label-arrow\"><div><div>preprocessor: ColumnTransformer</div></div><div><a class=\"sk-estimator-doc-link fitted\" rel=\"noreferrer\" target=\"_blank\" href=\"https://scikit-learn.org/1.6/modules/generated/sklearn.compose.ColumnTransformer.html\">?<span>Documentation for preprocessor: ColumnTransformer</span></a></div></label><div class=\"sk-toggleable__content fitted\"><pre>ColumnTransformer(transformers=[(&#x27;log&#x27;,\n",
       "                                 Pipeline(steps=[(&#x27;log&#x27;,\n",
       "                                                  FunctionTransformer(func=&lt;ufunc &#x27;log1p&#x27;&gt;))]),\n",
       "                                 [&#x27;person_income&#x27;, &#x27;loan_amnt&#x27;]),\n",
       "                                (&#x27;onehot&#x27;,\n",
       "                                 Pipeline(steps=[(&#x27;onehot&#x27;,\n",
       "                                                  OneHotEncoder(handle_unknown=&#x27;ignore&#x27;,\n",
       "                                                                sparse_output=False))]),\n",
       "                                 [&#x27;person_gender&#x27;, &#x27;person_home_ownership&#x27;,\n",
       "                                  &#x27;loan_intent&#x27;]),\n",
       "                                (&#x27;ord&#x27;,\n",
       "                                 Pipeline(steps=[(&#x27;ordinal&#x27;,\n",
       "                                                  OrdinalEncoder(handle_unknown=&#x27;use_encoded_value&#x27;,\n",
       "                                                                 unknown_value=-1))]),\n",
       "                                 [&#x27;person_education&#x27;,\n",
       "                                  &#x27;previous_loan_defaults_on_file&#x27;])])</pre></div> </div></div><div class=\"sk-parallel\"><div class=\"sk-parallel-item\"><div class=\"sk-item\"><div class=\"sk-label-container\"><div class=\"sk-label fitted sk-toggleable\"><input class=\"sk-toggleable__control sk-hidden--visually\" id=\"sk-estimator-id-3\" type=\"checkbox\" ><label for=\"sk-estimator-id-3\" class=\"sk-toggleable__label fitted sk-toggleable__label-arrow\"><div><div>log</div></div></label><div class=\"sk-toggleable__content fitted\"><pre>[&#x27;person_income&#x27;, &#x27;loan_amnt&#x27;]</pre></div> </div></div><div class=\"sk-serial\"><div class=\"sk-item\"><div class=\"sk-serial\"><div class=\"sk-item\"><div class=\"sk-estimator fitted sk-toggleable\"><input class=\"sk-toggleable__control sk-hidden--visually\" id=\"sk-estimator-id-4\" type=\"checkbox\" ><label for=\"sk-estimator-id-4\" class=\"sk-toggleable__label fitted sk-toggleable__label-arrow\"><div><div>log1p</div><div class=\"caption\">FunctionTransformer</div></div><div><a class=\"sk-estimator-doc-link fitted\" rel=\"noreferrer\" target=\"_blank\" href=\"https://scikit-learn.org/1.6/modules/generated/sklearn.preprocessing.FunctionTransformer.html\">?<span>Documentation for FunctionTransformer</span></a></div></label><div class=\"sk-toggleable__content fitted\"><pre>FunctionTransformer(func=&lt;ufunc &#x27;log1p&#x27;&gt;)</pre></div> </div></div></div></div></div></div></div><div class=\"sk-parallel-item\"><div class=\"sk-item\"><div class=\"sk-label-container\"><div class=\"sk-label fitted sk-toggleable\"><input class=\"sk-toggleable__control sk-hidden--visually\" id=\"sk-estimator-id-5\" type=\"checkbox\" ><label for=\"sk-estimator-id-5\" class=\"sk-toggleable__label fitted sk-toggleable__label-arrow\"><div><div>onehot</div></div></label><div class=\"sk-toggleable__content fitted\"><pre>[&#x27;person_gender&#x27;, &#x27;person_home_ownership&#x27;, &#x27;loan_intent&#x27;]</pre></div> </div></div><div class=\"sk-serial\"><div class=\"sk-item\"><div class=\"sk-serial\"><div class=\"sk-item\"><div class=\"sk-estimator fitted sk-toggleable\"><input class=\"sk-toggleable__control sk-hidden--visually\" id=\"sk-estimator-id-6\" type=\"checkbox\" ><label for=\"sk-estimator-id-6\" class=\"sk-toggleable__label fitted sk-toggleable__label-arrow\"><div><div>OneHotEncoder</div></div><div><a class=\"sk-estimator-doc-link fitted\" rel=\"noreferrer\" target=\"_blank\" href=\"https://scikit-learn.org/1.6/modules/generated/sklearn.preprocessing.OneHotEncoder.html\">?<span>Documentation for OneHotEncoder</span></a></div></label><div class=\"sk-toggleable__content fitted\"><pre>OneHotEncoder(handle_unknown=&#x27;ignore&#x27;, sparse_output=False)</pre></div> </div></div></div></div></div></div></div><div class=\"sk-parallel-item\"><div class=\"sk-item\"><div class=\"sk-label-container\"><div class=\"sk-label fitted sk-toggleable\"><input class=\"sk-toggleable__control sk-hidden--visually\" id=\"sk-estimator-id-7\" type=\"checkbox\" ><label for=\"sk-estimator-id-7\" class=\"sk-toggleable__label fitted sk-toggleable__label-arrow\"><div><div>ord</div></div></label><div class=\"sk-toggleable__content fitted\"><pre>[&#x27;person_education&#x27;, &#x27;previous_loan_defaults_on_file&#x27;]</pre></div> </div></div><div class=\"sk-serial\"><div class=\"sk-item\"><div class=\"sk-serial\"><div class=\"sk-item\"><div class=\"sk-estimator fitted sk-toggleable\"><input class=\"sk-toggleable__control sk-hidden--visually\" id=\"sk-estimator-id-8\" type=\"checkbox\" ><label for=\"sk-estimator-id-8\" class=\"sk-toggleable__label fitted sk-toggleable__label-arrow\"><div><div>OrdinalEncoder</div></div><div><a class=\"sk-estimator-doc-link fitted\" rel=\"noreferrer\" target=\"_blank\" href=\"https://scikit-learn.org/1.6/modules/generated/sklearn.preprocessing.OrdinalEncoder.html\">?<span>Documentation for OrdinalEncoder</span></a></div></label><div class=\"sk-toggleable__content fitted\"><pre>OrdinalEncoder(handle_unknown=&#x27;use_encoded_value&#x27;, unknown_value=-1)</pre></div> </div></div></div></div></div></div></div></div></div><div class=\"sk-item\"><div class=\"sk-estimator fitted sk-toggleable\"><input class=\"sk-toggleable__control sk-hidden--visually\" id=\"sk-estimator-id-9\" type=\"checkbox\" ><label for=\"sk-estimator-id-9\" class=\"sk-toggleable__label fitted sk-toggleable__label-arrow\"><div><div>StandardScaler</div></div><div><a class=\"sk-estimator-doc-link fitted\" rel=\"noreferrer\" target=\"_blank\" href=\"https://scikit-learn.org/1.6/modules/generated/sklearn.preprocessing.StandardScaler.html\">?<span>Documentation for StandardScaler</span></a></div></label><div class=\"sk-toggleable__content fitted\"><pre>StandardScaler(with_mean=False)</pre></div> </div></div><div class=\"sk-item\"><div class=\"sk-estimator fitted sk-toggleable\"><input class=\"sk-toggleable__control sk-hidden--visually\" id=\"sk-estimator-id-10\" type=\"checkbox\" ><label for=\"sk-estimator-id-10\" class=\"sk-toggleable__label fitted sk-toggleable__label-arrow\"><div><div>LogisticRegression</div></div><div><a class=\"sk-estimator-doc-link fitted\" rel=\"noreferrer\" target=\"_blank\" href=\"https://scikit-learn.org/1.6/modules/generated/sklearn.linear_model.LogisticRegression.html\">?<span>Documentation for LogisticRegression</span></a></div></label><div class=\"sk-toggleable__content fitted\"><pre>LogisticRegression(max_iter=1000)</pre></div> </div></div></div></div></div></div>"
      ],
      "text/plain": [
       "Pipeline(steps=[('preprocessor',\n",
       "                 ColumnTransformer(transformers=[('log',\n",
       "                                                  Pipeline(steps=[('log',\n",
       "                                                                   FunctionTransformer(func=<ufunc 'log1p'>))]),\n",
       "                                                  ['person_income',\n",
       "                                                   'loan_amnt']),\n",
       "                                                 ('onehot',\n",
       "                                                  Pipeline(steps=[('onehot',\n",
       "                                                                   OneHotEncoder(handle_unknown='ignore',\n",
       "                                                                                 sparse_output=False))]),\n",
       "                                                  ['person_gender',\n",
       "                                                   'person_home_ownership',\n",
       "                                                   'loan_intent']),\n",
       "                                                 ('ord',\n",
       "                                                  Pipeline(steps=[('ordinal',\n",
       "                                                                   OrdinalEncoder(handle_unknown='use_encoded_value',\n",
       "                                                                                  unknown_value=-1))]),\n",
       "                                                  ['person_education',\n",
       "                                                   'previous_loan_defaults_on_file'])])),\n",
       "                ('scaler', StandardScaler(with_mean=False)),\n",
       "                ('logreg', LogisticRegression(max_iter=1000))])"
      ]
     },
     "execution_count": 38,
     "metadata": {},
     "output_type": "execute_result"
    }
   ],
   "source": [
    "full_pipeline.fit(X_train, y_train)"
   ]
  },
  {
   "cell_type": "code",
   "execution_count": 40,
   "id": "d8949e08-a8fe-479e-b079-9784af1e815f",
   "metadata": {},
   "outputs": [],
   "source": [
    "y_pred = full_pipeline.predict(X_test)\n",
    "y_proba = full_pipeline.predict_proba(X_test)[:, 1]"
   ]
  },
  {
   "cell_type": "code",
   "execution_count": 42,
   "id": "d05b2742-eb92-4abb-a04c-bd1bda469660",
   "metadata": {},
   "outputs": [
    {
     "data": {
      "text/plain": [
       "91.46801394719989"
      ]
     },
     "execution_count": 42,
     "metadata": {},
     "output_type": "execute_result"
    }
   ],
   "source": [
    "f1 = f1_score(y_test, y_pred)\n",
    "f1 *100"
   ]
  },
  {
   "cell_type": "code",
   "execution_count": null,
   "id": "11510b72-159b-48d0-b19c-9c9ab77825f3",
   "metadata": {},
   "outputs": [],
   "source": []
  }
 ],
 "metadata": {
  "kernelspec": {
   "display_name": "Python 3 (ipykernel)",
   "language": "python",
   "name": "python3"
  },
  "language_info": {
   "codemirror_mode": {
    "name": "ipython",
    "version": 3
   },
   "file_extension": ".py",
   "mimetype": "text/x-python",
   "name": "python",
   "nbconvert_exporter": "python",
   "pygments_lexer": "ipython3",
   "version": "3.13.3"
  }
 },
 "nbformat": 4,
 "nbformat_minor": 5
}
